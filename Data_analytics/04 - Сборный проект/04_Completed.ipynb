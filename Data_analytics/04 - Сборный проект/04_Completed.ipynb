{
 "cells": [
  {
   "cell_type": "markdown",
   "metadata": {},
   "source": [
    "<div class=\"alert alert-success\">\n",
    "<h2> Комментарий ревьюера</h2>\n",
    "\n",
    "Привет! Спасибо, что прислал работу во время :) \n",
    "    \n",
    "Меня зовут Евгений, и я буду проверять твой проект) \n",
    "Ты проделал большую работу над проектом, однако в любом деле всегда можно можно что-то улучшить. Моя основная цель — не показать, что где—то совершены какие—либо ошибки, а поделиться своим опытом, который поможет тебе в дальнейших работах. Далее в файле ты сможешь увидить мои комментарии, постарайся учесть их при выполнении следующих заданий.    \n",
    "\n",
    "Мои комментарии обозначены пометкой **Комментарий ревьюера**. Далее в файле ты сможешь найти их в похожих ячейках (если фон комментария <font color=green>зелёный</font> - всё сделано правильно; <font color=orange>оранжевый</font> - есть замечания, но не критично; <font color=red>красный</font> - нужно переделать). Не удаляй эти комментарии и постарайся учесть их в ходе выполнения данного проекта. \n",
    "\n",
    "</div>"
   ]
  },
  {
   "cell_type": "markdown",
   "metadata": {},
   "source": [
    "# Описание проекта\n",
    "Вы работаете в интернет-магазине «Стримчик», который продаёт по всему миру компьютерные игры. Из открытых источников доступны исторические данные о продажах игр, оценки пользователей и экспертов, жанры и платформы (например, Xbox или PlayStation). Вам нужно выявить определяющие успешность игры закономерности. Это позволит сделать ставку на потенциально популярный продукт и спланировать рекламные кампании.\n",
    "Перед вами данные до 2016 года. Представим, что сейчас декабрь 2016 г., и вы планируете кампанию на 2017-й. Нужно отработать принцип работы с данными. Не важно, прогнозируете ли вы продажи на 2017 год по данным 2016-го или же 2027-й — по данным 2026 года.\n",
    "В наборе данных попадается аббревиатура ESRB (Entertainment Software Rating Board) — это ассоциация, определяющая возрастной рейтинг компьютерных игр. ESRB оценивает игровой контент и присваивает ему подходящую возрастную категорию, например, «Для взрослых», «Для детей младшего возраста» или «Для подростков»."
   ]
  },
  {
   "cell_type": "markdown",
   "metadata": {},
   "source": [
    "<div class=\"alert alert-success\">\n",
    "<h2> Комментарий ревьюера</h2>\n",
    "\n",
    "Вступление в работу очень важно. Так ты поясняешь то, чему она посвящена. Можно также привести краткий план проведения самой работы и описание используемых столбцов. \n",
    "\n",
    "</div>"
   ]
  },
  {
   "cell_type": "markdown",
   "metadata": {},
   "source": [
    "**Шаг 1. Откройте файл с данными и изучите общую информацию**\n",
    "\n",
    "Путь к файлу: /datasets/games.csv"
   ]
  },
  {
   "cell_type": "code",
   "execution_count": 37,
   "metadata": {},
   "outputs": [
    {
     "name": "stdout",
     "output_type": "stream",
     "text": [
      "<class 'pandas.core.frame.DataFrame'>\n",
      "RangeIndex: 16715 entries, 0 to 16714\n",
      "Data columns (total 11 columns):\n",
      " #   Column           Non-Null Count  Dtype  \n",
      "---  ------           --------------  -----  \n",
      " 0   Name             16713 non-null  object \n",
      " 1   Platform         16715 non-null  object \n",
      " 2   Year_of_Release  16446 non-null  float64\n",
      " 3   Genre            16713 non-null  object \n",
      " 4   NA_sales         16715 non-null  float64\n",
      " 5   EU_sales         16715 non-null  float64\n",
      " 6   JP_sales         16715 non-null  float64\n",
      " 7   Other_sales      16715 non-null  float64\n",
      " 8   Critic_Score     8137 non-null   float64\n",
      " 9   User_Score       10014 non-null  object \n",
      " 10  Rating           9949 non-null   object \n",
      "dtypes: float64(6), object(5)\n",
      "memory usage: 1.4+ MB\n"
     ]
    },
    {
     "data": {
      "text/html": [
       "<div>\n",
       "<style scoped>\n",
       "    .dataframe tbody tr th:only-of-type {\n",
       "        vertical-align: middle;\n",
       "    }\n",
       "\n",
       "    .dataframe tbody tr th {\n",
       "        vertical-align: top;\n",
       "    }\n",
       "\n",
       "    .dataframe thead th {\n",
       "        text-align: right;\n",
       "    }\n",
       "</style>\n",
       "<table border=\"1\" class=\"dataframe\">\n",
       "  <thead>\n",
       "    <tr style=\"text-align: right;\">\n",
       "      <th></th>\n",
       "      <th>Name</th>\n",
       "      <th>Platform</th>\n",
       "      <th>Year_of_Release</th>\n",
       "      <th>Genre</th>\n",
       "      <th>NA_sales</th>\n",
       "      <th>EU_sales</th>\n",
       "      <th>JP_sales</th>\n",
       "      <th>Other_sales</th>\n",
       "      <th>Critic_Score</th>\n",
       "      <th>User_Score</th>\n",
       "      <th>Rating</th>\n",
       "    </tr>\n",
       "  </thead>\n",
       "  <tbody>\n",
       "    <tr>\n",
       "      <th>0</th>\n",
       "      <td>Wii Sports</td>\n",
       "      <td>Wii</td>\n",
       "      <td>2006.0</td>\n",
       "      <td>Sports</td>\n",
       "      <td>41.36</td>\n",
       "      <td>28.96</td>\n",
       "      <td>3.77</td>\n",
       "      <td>8.45</td>\n",
       "      <td>76.0</td>\n",
       "      <td>8</td>\n",
       "      <td>E</td>\n",
       "    </tr>\n",
       "    <tr>\n",
       "      <th>1</th>\n",
       "      <td>Super Mario Bros.</td>\n",
       "      <td>NES</td>\n",
       "      <td>1985.0</td>\n",
       "      <td>Platform</td>\n",
       "      <td>29.08</td>\n",
       "      <td>3.58</td>\n",
       "      <td>6.81</td>\n",
       "      <td>0.77</td>\n",
       "      <td>NaN</td>\n",
       "      <td>NaN</td>\n",
       "      <td>NaN</td>\n",
       "    </tr>\n",
       "    <tr>\n",
       "      <th>2</th>\n",
       "      <td>Mario Kart Wii</td>\n",
       "      <td>Wii</td>\n",
       "      <td>2008.0</td>\n",
       "      <td>Racing</td>\n",
       "      <td>15.68</td>\n",
       "      <td>12.76</td>\n",
       "      <td>3.79</td>\n",
       "      <td>3.29</td>\n",
       "      <td>82.0</td>\n",
       "      <td>8.3</td>\n",
       "      <td>E</td>\n",
       "    </tr>\n",
       "    <tr>\n",
       "      <th>3</th>\n",
       "      <td>Wii Sports Resort</td>\n",
       "      <td>Wii</td>\n",
       "      <td>2009.0</td>\n",
       "      <td>Sports</td>\n",
       "      <td>15.61</td>\n",
       "      <td>10.93</td>\n",
       "      <td>3.28</td>\n",
       "      <td>2.95</td>\n",
       "      <td>80.0</td>\n",
       "      <td>8</td>\n",
       "      <td>E</td>\n",
       "    </tr>\n",
       "    <tr>\n",
       "      <th>4</th>\n",
       "      <td>Pokemon Red/Pokemon Blue</td>\n",
       "      <td>GB</td>\n",
       "      <td>1996.0</td>\n",
       "      <td>Role-Playing</td>\n",
       "      <td>11.27</td>\n",
       "      <td>8.89</td>\n",
       "      <td>10.22</td>\n",
       "      <td>1.00</td>\n",
       "      <td>NaN</td>\n",
       "      <td>NaN</td>\n",
       "      <td>NaN</td>\n",
       "    </tr>\n",
       "  </tbody>\n",
       "</table>\n",
       "</div>"
      ],
      "text/plain": [
       "                       Name Platform  Year_of_Release         Genre  NA_sales  \\\n",
       "0                Wii Sports      Wii           2006.0        Sports     41.36   \n",
       "1         Super Mario Bros.      NES           1985.0      Platform     29.08   \n",
       "2            Mario Kart Wii      Wii           2008.0        Racing     15.68   \n",
       "3         Wii Sports Resort      Wii           2009.0        Sports     15.61   \n",
       "4  Pokemon Red/Pokemon Blue       GB           1996.0  Role-Playing     11.27   \n",
       "\n",
       "   EU_sales  JP_sales  Other_sales  Critic_Score User_Score Rating  \n",
       "0     28.96      3.77         8.45          76.0          8      E  \n",
       "1      3.58      6.81         0.77           NaN        NaN    NaN  \n",
       "2     12.76      3.79         3.29          82.0        8.3      E  \n",
       "3     10.93      3.28         2.95          80.0          8      E  \n",
       "4      8.89     10.22         1.00           NaN        NaN    NaN  "
      ]
     },
     "execution_count": 37,
     "metadata": {},
     "output_type": "execute_result"
    }
   ],
   "source": [
    "import pandas as pd\n",
    "import seaborn as sns\n",
    "import numpy as np\n",
    "import matplotlib.pyplot as plt\n",
    "from scipy import stats as st\n",
    "\n",
    "df = pd.read_csv(\"C:/Users/Ilya/Desktop/Yandex/Projects/04 - Сборный проект/datasets/games.csv\")\n",
    "df.info()\n",
    "df.head()"
   ]
  },
  {
   "cell_type": "code",
   "execution_count": 38,
   "metadata": {},
   "outputs": [
    {
     "data": {
      "text/html": [
       "<div>\n",
       "<style scoped>\n",
       "    .dataframe tbody tr th:only-of-type {\n",
       "        vertical-align: middle;\n",
       "    }\n",
       "\n",
       "    .dataframe tbody tr th {\n",
       "        vertical-align: top;\n",
       "    }\n",
       "\n",
       "    .dataframe thead th {\n",
       "        text-align: right;\n",
       "    }\n",
       "</style>\n",
       "<table border=\"1\" class=\"dataframe\">\n",
       "  <thead>\n",
       "    <tr style=\"text-align: right;\">\n",
       "      <th></th>\n",
       "      <th>Name</th>\n",
       "      <th>Platform</th>\n",
       "      <th>Year_of_Release</th>\n",
       "      <th>Genre</th>\n",
       "      <th>NA_sales</th>\n",
       "      <th>EU_sales</th>\n",
       "      <th>JP_sales</th>\n",
       "      <th>Other_sales</th>\n",
       "      <th>Critic_Score</th>\n",
       "      <th>User_Score</th>\n",
       "      <th>Rating</th>\n",
       "    </tr>\n",
       "  </thead>\n",
       "  <tbody>\n",
       "    <tr>\n",
       "      <th>659</th>\n",
       "      <td>NaN</td>\n",
       "      <td>GEN</td>\n",
       "      <td>1993.0</td>\n",
       "      <td>NaN</td>\n",
       "      <td>1.78</td>\n",
       "      <td>0.53</td>\n",
       "      <td>0.00</td>\n",
       "      <td>0.08</td>\n",
       "      <td>NaN</td>\n",
       "      <td>NaN</td>\n",
       "      <td>NaN</td>\n",
       "    </tr>\n",
       "    <tr>\n",
       "      <th>14244</th>\n",
       "      <td>NaN</td>\n",
       "      <td>GEN</td>\n",
       "      <td>1993.0</td>\n",
       "      <td>NaN</td>\n",
       "      <td>0.00</td>\n",
       "      <td>0.00</td>\n",
       "      <td>0.03</td>\n",
       "      <td>0.00</td>\n",
       "      <td>NaN</td>\n",
       "      <td>NaN</td>\n",
       "      <td>NaN</td>\n",
       "    </tr>\n",
       "  </tbody>\n",
       "</table>\n",
       "</div>"
      ],
      "text/plain": [
       "      Name Platform  Year_of_Release Genre  NA_sales  EU_sales  JP_sales  \\\n",
       "659    NaN      GEN           1993.0   NaN      1.78      0.53      0.00   \n",
       "14244  NaN      GEN           1993.0   NaN      0.00      0.00      0.03   \n",
       "\n",
       "       Other_sales  Critic_Score User_Score Rating  \n",
       "659           0.08           NaN        NaN    NaN  \n",
       "14244         0.00           NaN        NaN    NaN  "
      ]
     },
     "execution_count": 38,
     "metadata": {},
     "output_type": "execute_result"
    }
   ],
   "source": [
    "# проверим NAN для Name, чтобы убедиться, что это не Total line\n",
    "gt = df.query('Name != Name') \n",
    "gt"
   ]
  },
  {
   "cell_type": "code",
   "execution_count": 39,
   "metadata": {},
   "outputs": [
    {
     "data": {
      "image/png": "[encoded data removed]",
      "text/plain": [
       "<Figure size 432x288 with 1 Axes>"
      ]
     },
     "metadata": {
      "needs_background": "light"
     },
     "output_type": "display_data"
    },
    {
     "data": {
      "text/plain": [
       "6766"
      ]
     },
     "execution_count": 39,
     "metadata": {},
     "output_type": "execute_result"
    }
   ],
   "source": [
    "df_3 = df[df['Rating'] != df['Rating']] \n",
    "df_3['Year_of_Release'].hist()\n",
    "plt.show()\n",
    "len(df_3)"
   ]
  },
  {
   "cell_type": "code",
   "execution_count": 40,
   "metadata": {},
   "outputs": [
    {
     "data": {
      "image/png": "[encoded data removed]",
      "text/plain": [
       "<Figure size 432x288 with 1 Axes>"
      ]
     },
     "metadata": {
      "needs_background": "light"
     },
     "output_type": "display_data"
    },
    {
     "data": {
      "text/plain": [
       "8578"
      ]
     },
     "execution_count": 40,
     "metadata": {},
     "output_type": "execute_result"
    }
   ],
   "source": [
    "df_1 = df[df['Critic_Score'] != df['Critic_Score']] \n",
    "df_1['Year_of_Release'].hist()\n",
    "plt.show()\n",
    "len(df_1)"
   ]
  },
  {
   "cell_type": "code",
   "execution_count": 41,
   "metadata": {},
   "outputs": [
    {
     "data": {
      "image/png": "[encoded data removed]",
      "text/plain": [
       "<Figure size 432x288 with 1 Axes>"
      ]
     },
     "metadata": {
      "needs_background": "light"
     },
     "output_type": "display_data"
    },
    {
     "data": {
      "text/plain": [
       "6701"
      ]
     },
     "execution_count": 41,
     "metadata": {},
     "output_type": "execute_result"
    }
   ],
   "source": [
    "df_2 = df[df['User_Score'] != df['User_Score'] ] \n",
    "df_2['Year_of_Release'].hist()\n",
    "plt.show()\n",
    "len(df_2)"
   ]
  },
  {
   "cell_type": "markdown",
   "metadata": {},
   "source": [
    "#### Вывод:\n",
    "- В данных присуствуют пропуски в следующих столбцах:\n",
    "    - Name\n",
    "    - Year_of_release\n",
    "    - Genre\n",
    "    - Critic_Score\n",
    "    - User_Score\n",
    "    - Rating\n",
    " - Пропуски по **Name** можно выкинуть они не представляют существенного количества\n",
    "    "
   ]
  },
  {
   "cell_type": "markdown",
   "metadata": {},
   "source": [
    "<div class=\"alert alert-warning\">\n",
    "<h2> Комментарий ревьюера</h2>\n",
    "\n",
    "Обрати внимание, что мы используем повторяющиеся методы для построения гистограмм. Возникает место для цикла `for`.\n",
    "\n",
    "</div>"
   ]
  },
  {
   "cell_type": "markdown",
   "metadata": {},
   "source": [
    "**Шаг 2. Подготовьте данные**\n",
    "\n",
    "#### • Замените названия столбцов (приведите к нижнему регистру);\n",
    "\n"
   ]
  },
  {
   "cell_type": "code",
   "execution_count": 42,
   "metadata": {},
   "outputs": [
    {
     "data": {
      "text/html": [
       "<div>\n",
       "<style scoped>\n",
       "    .dataframe tbody tr th:only-of-type {\n",
       "        vertical-align: middle;\n",
       "    }\n",
       "\n",
       "    .dataframe tbody tr th {\n",
       "        vertical-align: top;\n",
       "    }\n",
       "\n",
       "    .dataframe thead th {\n",
       "        text-align: right;\n",
       "    }\n",
       "</style>\n",
       "<table border=\"1\" class=\"dataframe\">\n",
       "  <thead>\n",
       "    <tr style=\"text-align: right;\">\n",
       "      <th></th>\n",
       "      <th>name</th>\n",
       "      <th>platform</th>\n",
       "      <th>year_of_release</th>\n",
       "      <th>genre</th>\n",
       "      <th>na_sales</th>\n",
       "      <th>eu_sales</th>\n",
       "      <th>jp_sales</th>\n",
       "      <th>other_sales</th>\n",
       "      <th>critic_score</th>\n",
       "      <th>user_score</th>\n",
       "      <th>rating</th>\n",
       "    </tr>\n",
       "  </thead>\n",
       "  <tbody>\n",
       "    <tr>\n",
       "      <th>0</th>\n",
       "      <td>Wii Sports</td>\n",
       "      <td>Wii</td>\n",
       "      <td>2006.0</td>\n",
       "      <td>Sports</td>\n",
       "      <td>41.36</td>\n",
       "      <td>28.96</td>\n",
       "      <td>3.77</td>\n",
       "      <td>8.45</td>\n",
       "      <td>76.0</td>\n",
       "      <td>8</td>\n",
       "      <td>E</td>\n",
       "    </tr>\n",
       "    <tr>\n",
       "      <th>1</th>\n",
       "      <td>Super Mario Bros.</td>\n",
       "      <td>NES</td>\n",
       "      <td>1985.0</td>\n",
       "      <td>Platform</td>\n",
       "      <td>29.08</td>\n",
       "      <td>3.58</td>\n",
       "      <td>6.81</td>\n",
       "      <td>0.77</td>\n",
       "      <td>NaN</td>\n",
       "      <td>NaN</td>\n",
       "      <td>NaN</td>\n",
       "    </tr>\n",
       "    <tr>\n",
       "      <th>2</th>\n",
       "      <td>Mario Kart Wii</td>\n",
       "      <td>Wii</td>\n",
       "      <td>2008.0</td>\n",
       "      <td>Racing</td>\n",
       "      <td>15.68</td>\n",
       "      <td>12.76</td>\n",
       "      <td>3.79</td>\n",
       "      <td>3.29</td>\n",
       "      <td>82.0</td>\n",
       "      <td>8.3</td>\n",
       "      <td>E</td>\n",
       "    </tr>\n",
       "    <tr>\n",
       "      <th>3</th>\n",
       "      <td>Wii Sports Resort</td>\n",
       "      <td>Wii</td>\n",
       "      <td>2009.0</td>\n",
       "      <td>Sports</td>\n",
       "      <td>15.61</td>\n",
       "      <td>10.93</td>\n",
       "      <td>3.28</td>\n",
       "      <td>2.95</td>\n",
       "      <td>80.0</td>\n",
       "      <td>8</td>\n",
       "      <td>E</td>\n",
       "    </tr>\n",
       "    <tr>\n",
       "      <th>4</th>\n",
       "      <td>Pokemon Red/Pokemon Blue</td>\n",
       "      <td>GB</td>\n",
       "      <td>1996.0</td>\n",
       "      <td>Role-Playing</td>\n",
       "      <td>11.27</td>\n",
       "      <td>8.89</td>\n",
       "      <td>10.22</td>\n",
       "      <td>1.00</td>\n",
       "      <td>NaN</td>\n",
       "      <td>NaN</td>\n",
       "      <td>NaN</td>\n",
       "    </tr>\n",
       "    <tr>\n",
       "      <th>...</th>\n",
       "      <td>...</td>\n",
       "      <td>...</td>\n",
       "      <td>...</td>\n",
       "      <td>...</td>\n",
       "      <td>...</td>\n",
       "      <td>...</td>\n",
       "      <td>...</td>\n",
       "      <td>...</td>\n",
       "      <td>...</td>\n",
       "      <td>...</td>\n",
       "      <td>...</td>\n",
       "    </tr>\n",
       "    <tr>\n",
       "      <th>16710</th>\n",
       "      <td>Samurai Warriors: Sanada Maru</td>\n",
       "      <td>PS3</td>\n",
       "      <td>2016.0</td>\n",
       "      <td>Action</td>\n",
       "      <td>0.00</td>\n",
       "      <td>0.00</td>\n",
       "      <td>0.01</td>\n",
       "      <td>0.00</td>\n",
       "      <td>NaN</td>\n",
       "      <td>NaN</td>\n",
       "      <td>NaN</td>\n",
       "    </tr>\n",
       "    <tr>\n",
       "      <th>16711</th>\n",
       "      <td>LMA Manager 2007</td>\n",
       "      <td>X360</td>\n",
       "      <td>2006.0</td>\n",
       "      <td>Sports</td>\n",
       "      <td>0.00</td>\n",
       "      <td>0.01</td>\n",
       "      <td>0.00</td>\n",
       "      <td>0.00</td>\n",
       "      <td>NaN</td>\n",
       "      <td>NaN</td>\n",
       "      <td>NaN</td>\n",
       "    </tr>\n",
       "    <tr>\n",
       "      <th>16712</th>\n",
       "      <td>Haitaka no Psychedelica</td>\n",
       "      <td>PSV</td>\n",
       "      <td>2016.0</td>\n",
       "      <td>Adventure</td>\n",
       "      <td>0.00</td>\n",
       "      <td>0.00</td>\n",
       "      <td>0.01</td>\n",
       "      <td>0.00</td>\n",
       "      <td>NaN</td>\n",
       "      <td>NaN</td>\n",
       "      <td>NaN</td>\n",
       "    </tr>\n",
       "    <tr>\n",
       "      <th>16713</th>\n",
       "      <td>Spirits &amp; Spells</td>\n",
       "      <td>GBA</td>\n",
       "      <td>2003.0</td>\n",
       "      <td>Platform</td>\n",
       "      <td>0.01</td>\n",
       "      <td>0.00</td>\n",
       "      <td>0.00</td>\n",
       "      <td>0.00</td>\n",
       "      <td>NaN</td>\n",
       "      <td>NaN</td>\n",
       "      <td>NaN</td>\n",
       "    </tr>\n",
       "    <tr>\n",
       "      <th>16714</th>\n",
       "      <td>Winning Post 8 2016</td>\n",
       "      <td>PSV</td>\n",
       "      <td>2016.0</td>\n",
       "      <td>Simulation</td>\n",
       "      <td>0.00</td>\n",
       "      <td>0.00</td>\n",
       "      <td>0.01</td>\n",
       "      <td>0.00</td>\n",
       "      <td>NaN</td>\n",
       "      <td>NaN</td>\n",
       "      <td>NaN</td>\n",
       "    </tr>\n",
       "  </tbody>\n",
       "</table>\n",
       "<p>16715 rows × 11 columns</p>\n",
       "</div>"
      ],
      "text/plain": [
       "                                name platform  year_of_release         genre  \\\n",
       "0                         Wii Sports      Wii           2006.0        Sports   \n",
       "1                  Super Mario Bros.      NES           1985.0      Platform   \n",
       "2                     Mario Kart Wii      Wii           2008.0        Racing   \n",
       "3                  Wii Sports Resort      Wii           2009.0        Sports   \n",
       "4           Pokemon Red/Pokemon Blue       GB           1996.0  Role-Playing   \n",
       "...                              ...      ...              ...           ...   \n",
       "16710  Samurai Warriors: Sanada Maru      PS3           2016.0        Action   \n",
       "16711               LMA Manager 2007     X360           2006.0        Sports   \n",
       "16712        Haitaka no Psychedelica      PSV           2016.0     Adventure   \n",
       "16713               Spirits & Spells      GBA           2003.0      Platform   \n",
       "16714            Winning Post 8 2016      PSV           2016.0    Simulation   \n",
       "\n",
       "       na_sales  eu_sales  jp_sales  other_sales  critic_score user_score  \\\n",
       "0         41.36     28.96      3.77         8.45          76.0          8   \n",
       "1         29.08      3.58      6.81         0.77           NaN        NaN   \n",
       "2         15.68     12.76      3.79         3.29          82.0        8.3   \n",
       "3         15.61     10.93      3.28         2.95          80.0          8   \n",
       "4         11.27      8.89     10.22         1.00           NaN        NaN   \n",
       "...         ...       ...       ...          ...           ...        ...   \n",
       "16710      0.00      0.00      0.01         0.00           NaN        NaN   \n",
       "16711      0.00      0.01      0.00         0.00           NaN        NaN   \n",
       "16712      0.00      0.00      0.01         0.00           NaN        NaN   \n",
       "16713      0.01      0.00      0.00         0.00           NaN        NaN   \n",
       "16714      0.00      0.00      0.01         0.00           NaN        NaN   \n",
       "\n",
       "      rating  \n",
       "0          E  \n",
       "1        NaN  \n",
       "2          E  \n",
       "3          E  \n",
       "4        NaN  \n",
       "...      ...  \n",
       "16710    NaN  \n",
       "16711    NaN  \n",
       "16712    NaN  \n",
       "16713    NaN  \n",
       "16714    NaN  \n",
       "\n",
       "[16715 rows x 11 columns]"
      ]
     },
     "execution_count": 42,
     "metadata": {},
     "output_type": "execute_result"
    }
   ],
   "source": [
    "df.columns = df.columns.str.lower()\n",
    "df"
   ]
  },
  {
   "cell_type": "markdown",
   "metadata": {},
   "source": [
    "<div class=\"alert alert-success\">\n",
    "<h2> Комментарий ревьюера</h2>\n",
    "\n",
    "Здорово, что за одно действие изменил регистр колонок.\n",
    "\n",
    "</div>"
   ]
  },
  {
   "cell_type": "markdown",
   "metadata": {},
   "source": [
    "### Прежде чем будем менять данные нам необходимо обработать пропуски\n",
    "### Обработайте пропуски при необходимости:\n",
    "- Объясните, почему заполнили пропуски определённым образом или почему не стали это делать;\n",
    "- Опишите причины, которые могли привести к пропускам;\n",
    "- Обратите внимание на аббревиатуру 'tbd' в столбцах с рейтингом. Отдельно разберите это значение и опишите, как его обработать;\n"
   ]
  },
  {
   "cell_type": "code",
   "execution_count": 43,
   "metadata": {},
   "outputs": [
    {
     "name": "stdout",
     "output_type": "stream",
     "text": [
      "<class 'pandas.core.frame.DataFrame'>\n",
      "RangeIndex: 16715 entries, 0 to 16714\n",
      "Data columns (total 11 columns):\n",
      " #   Column           Non-Null Count  Dtype  \n",
      "---  ------           --------------  -----  \n",
      " 0   name             16713 non-null  object \n",
      " 1   platform         16715 non-null  object \n",
      " 2   year_of_release  16444 non-null  float64\n",
      " 3   genre            16713 non-null  object \n",
      " 4   na_sales         16715 non-null  float64\n",
      " 5   eu_sales         16715 non-null  float64\n",
      " 6   jp_sales         16715 non-null  float64\n",
      " 7   other_sales      16715 non-null  float64\n",
      " 8   critic_score     8137 non-null   float64\n",
      " 9   user_score       10014 non-null  object \n",
      " 10  rating           9949 non-null   object \n",
      "dtypes: float64(6), object(5)\n",
      "memory usage: 1.4+ MB\n"
     ]
    }
   ],
   "source": [
    "df['year_of_release'] = (df.groupby('name')['year_of_release'].apply(lambda x: x.fillna(x.mode())))\n",
    "df.info()"
   ]
  },
  {
   "cell_type": "markdown",
   "metadata": {},
   "source": [
    "<div class=\"alert alert-success\">\n",
    "<h2> Комментарий ревьюера</h2>\n",
    "\n",
    "Лучше всего указать причину изменения пропусков. То есть, мы могли бы изменить в том числе на среднее количество, медиану и так далее. \n",
    "    \n",
    "Как думаешь, реалистична ли замена для года выпуска ? Имею в виду, изменение этих данных может исказить наши дальнейшие выводы.\n",
    "\n",
    "</div>"
   ]
  },
  {
   "cell_type": "markdown",
   "metadata": {},
   "source": [
    "#### Уберем пропуски по названиям и напишем для этого функцию"
   ]
  },
  {
   "cell_type": "code",
   "execution_count": 44,
   "metadata": {},
   "outputs": [],
   "source": [
    "def data_mis(column):\n",
    "    '''\n",
    "    Возвращает Series с пропусками в указанной колонке\n",
    "    '''\n",
    "    return df[df[column].isnull()]"
   ]
  },
  {
   "cell_type": "code",
   "execution_count": 45,
   "metadata": {},
   "outputs": [
    {
     "data": {
      "text/html": [
       "<div>\n",
       "<style scoped>\n",
       "    .dataframe tbody tr th:only-of-type {\n",
       "        vertical-align: middle;\n",
       "    }\n",
       "\n",
       "    .dataframe tbody tr th {\n",
       "        vertical-align: top;\n",
       "    }\n",
       "\n",
       "    .dataframe thead th {\n",
       "        text-align: right;\n",
       "    }\n",
       "</style>\n",
       "<table border=\"1\" class=\"dataframe\">\n",
       "  <thead>\n",
       "    <tr style=\"text-align: right;\">\n",
       "      <th></th>\n",
       "      <th>name</th>\n",
       "      <th>platform</th>\n",
       "      <th>year_of_release</th>\n",
       "      <th>genre</th>\n",
       "      <th>na_sales</th>\n",
       "      <th>eu_sales</th>\n",
       "      <th>jp_sales</th>\n",
       "      <th>other_sales</th>\n",
       "      <th>critic_score</th>\n",
       "      <th>user_score</th>\n",
       "      <th>rating</th>\n",
       "    </tr>\n",
       "  </thead>\n",
       "  <tbody>\n",
       "    <tr>\n",
       "      <th>659</th>\n",
       "      <td>NaN</td>\n",
       "      <td>GEN</td>\n",
       "      <td>NaN</td>\n",
       "      <td>NaN</td>\n",
       "      <td>1.78</td>\n",
       "      <td>0.53</td>\n",
       "      <td>0.00</td>\n",
       "      <td>0.08</td>\n",
       "      <td>NaN</td>\n",
       "      <td>NaN</td>\n",
       "      <td>NaN</td>\n",
       "    </tr>\n",
       "    <tr>\n",
       "      <th>14244</th>\n",
       "      <td>NaN</td>\n",
       "      <td>GEN</td>\n",
       "      <td>NaN</td>\n",
       "      <td>NaN</td>\n",
       "      <td>0.00</td>\n",
       "      <td>0.00</td>\n",
       "      <td>0.03</td>\n",
       "      <td>0.00</td>\n",
       "      <td>NaN</td>\n",
       "      <td>NaN</td>\n",
       "      <td>NaN</td>\n",
       "    </tr>\n",
       "  </tbody>\n",
       "</table>\n",
       "</div>"
      ],
      "text/plain": [
       "      name platform  year_of_release genre  na_sales  eu_sales  jp_sales  \\\n",
       "659    NaN      GEN              NaN   NaN      1.78      0.53      0.00   \n",
       "14244  NaN      GEN              NaN   NaN      0.00      0.00      0.03   \n",
       "\n",
       "       other_sales  critic_score user_score rating  \n",
       "659           0.08           NaN        NaN    NaN  \n",
       "14244         0.00           NaN        NaN    NaN  "
      ]
     },
     "execution_count": 45,
     "metadata": {},
     "output_type": "execute_result"
    }
   ],
   "source": [
    "data_mis('name')"
   ]
  },
  {
   "cell_type": "code",
   "execution_count": 46,
   "metadata": {},
   "outputs": [
    {
     "name": "stdout",
     "output_type": "stream",
     "text": [
      "<class 'pandas.core.frame.DataFrame'>\n",
      "Int64Index: 16713 entries, 0 to 16714\n",
      "Data columns (total 11 columns):\n",
      " #   Column           Non-Null Count  Dtype  \n",
      "---  ------           --------------  -----  \n",
      " 0   name             16713 non-null  object \n",
      " 1   platform         16713 non-null  object \n",
      " 2   year_of_release  16444 non-null  float64\n",
      " 3   genre            16713 non-null  object \n",
      " 4   na_sales         16713 non-null  float64\n",
      " 5   eu_sales         16713 non-null  float64\n",
      " 6   jp_sales         16713 non-null  float64\n",
      " 7   other_sales      16713 non-null  float64\n",
      " 8   critic_score     8137 non-null   float64\n",
      " 9   user_score       10014 non-null  object \n",
      " 10  rating           9949 non-null   object \n",
      "dtypes: float64(6), object(5)\n",
      "memory usage: 1.5+ MB\n"
     ]
    }
   ],
   "source": [
    "# Данных не много, можно удалить их\n",
    "df.drop(data_mis('name').index, inplace= True)\n",
    "df.info()"
   ]
  },
  {
   "cell_type": "markdown",
   "metadata": {},
   "source": [
    "###### Уберем пропуски по году выпуска и напишем для этого функцию"
   ]
  },
  {
   "cell_type": "code",
   "execution_count": 47,
   "metadata": {},
   "outputs": [
    {
     "name": "stdout",
     "output_type": "stream",
     "text": [
      "Объем пропусков по году выпуска от всего датасета: 1.6%\n"
     ]
    }
   ],
   "source": [
    "print(\"Объем пропусков по году выпуска от всего датасета: {:.1%}\".format(len(data_mis('year_of_release'))/len(df)))\n"
   ]
  },
  {
   "cell_type": "markdown",
   "metadata": {},
   "source": [
    "Объем пропусков не такой большой и можно просто выкинуть их, но можно попробовать заполнить"
   ]
  },
  {
   "cell_type": "markdown",
   "metadata": {},
   "source": [
    "<div class=\"alert alert-warning\">\n",
    "<h2> Комментарий ревьюера</h2>\n",
    "\n",
    "Перед тем как избавляться от данных, рекомендую их исследовать.\n",
    "\n",
    "</div>"
   ]
  },
  {
   "cell_type": "code",
   "execution_count": 48,
   "metadata": {},
   "outputs": [],
   "source": [
    "# сохраним выборку по играм, где нет пропусков в отдельный датасет\n",
    "non_null_values_year = df[df['year_of_release'].notnull()]"
   ]
  },
  {
   "cell_type": "code",
   "execution_count": 49,
   "metadata": {},
   "outputs": [],
   "source": [
    "def fill_na_year (row, **kwargs):\n",
    "    col = 'year_of_release'\n",
    "    rows = non_null_values_year[non_null_values_year['name'] == row['name']]\n",
    "    \n",
    "    if len(rows) > 0:\n",
    "        return rows.iloc[0][col]\n",
    "    \n",
    "    return row[col]"
   ]
  },
  {
   "cell_type": "code",
   "execution_count": 50,
   "metadata": {},
   "outputs": [],
   "source": [
    "df['year_of_release'] = df.apply(fill_na_year, axis=1).astype('Int64')\n"
   ]
  },
  {
   "cell_type": "code",
   "execution_count": 51,
   "metadata": {},
   "outputs": [
    {
     "data": {
      "text/html": [
       "<div>\n",
       "<style scoped>\n",
       "    .dataframe tbody tr th:only-of-type {\n",
       "        vertical-align: middle;\n",
       "    }\n",
       "\n",
       "    .dataframe tbody tr th {\n",
       "        vertical-align: top;\n",
       "    }\n",
       "\n",
       "    .dataframe thead th {\n",
       "        text-align: right;\n",
       "    }\n",
       "</style>\n",
       "<table border=\"1\" class=\"dataframe\">\n",
       "  <thead>\n",
       "    <tr style=\"text-align: right;\">\n",
       "      <th></th>\n",
       "      <th>name</th>\n",
       "      <th>platform</th>\n",
       "      <th>year_of_release</th>\n",
       "      <th>genre</th>\n",
       "      <th>na_sales</th>\n",
       "      <th>eu_sales</th>\n",
       "      <th>jp_sales</th>\n",
       "      <th>other_sales</th>\n",
       "      <th>critic_score</th>\n",
       "      <th>user_score</th>\n",
       "      <th>rating</th>\n",
       "    </tr>\n",
       "  </thead>\n",
       "  <tbody>\n",
       "    <tr>\n",
       "      <th>0</th>\n",
       "      <td>Wii Sports</td>\n",
       "      <td>Wii</td>\n",
       "      <td>2006</td>\n",
       "      <td>Sports</td>\n",
       "      <td>41.36</td>\n",
       "      <td>28.96</td>\n",
       "      <td>3.77</td>\n",
       "      <td>8.45</td>\n",
       "      <td>76.0</td>\n",
       "      <td>8</td>\n",
       "      <td>E</td>\n",
       "    </tr>\n",
       "    <tr>\n",
       "      <th>1</th>\n",
       "      <td>Super Mario Bros.</td>\n",
       "      <td>NES</td>\n",
       "      <td>1985</td>\n",
       "      <td>Platform</td>\n",
       "      <td>29.08</td>\n",
       "      <td>3.58</td>\n",
       "      <td>6.81</td>\n",
       "      <td>0.77</td>\n",
       "      <td>NaN</td>\n",
       "      <td>NaN</td>\n",
       "      <td>NaN</td>\n",
       "    </tr>\n",
       "    <tr>\n",
       "      <th>2</th>\n",
       "      <td>Mario Kart Wii</td>\n",
       "      <td>Wii</td>\n",
       "      <td>2008</td>\n",
       "      <td>Racing</td>\n",
       "      <td>15.68</td>\n",
       "      <td>12.76</td>\n",
       "      <td>3.79</td>\n",
       "      <td>3.29</td>\n",
       "      <td>82.0</td>\n",
       "      <td>8.3</td>\n",
       "      <td>E</td>\n",
       "    </tr>\n",
       "    <tr>\n",
       "      <th>3</th>\n",
       "      <td>Wii Sports Resort</td>\n",
       "      <td>Wii</td>\n",
       "      <td>2009</td>\n",
       "      <td>Sports</td>\n",
       "      <td>15.61</td>\n",
       "      <td>10.93</td>\n",
       "      <td>3.28</td>\n",
       "      <td>2.95</td>\n",
       "      <td>80.0</td>\n",
       "      <td>8</td>\n",
       "      <td>E</td>\n",
       "    </tr>\n",
       "    <tr>\n",
       "      <th>4</th>\n",
       "      <td>Pokemon Red/Pokemon Blue</td>\n",
       "      <td>GB</td>\n",
       "      <td>1996</td>\n",
       "      <td>Role-Playing</td>\n",
       "      <td>11.27</td>\n",
       "      <td>8.89</td>\n",
       "      <td>10.22</td>\n",
       "      <td>1.00</td>\n",
       "      <td>NaN</td>\n",
       "      <td>NaN</td>\n",
       "      <td>NaN</td>\n",
       "    </tr>\n",
       "    <tr>\n",
       "      <th>...</th>\n",
       "      <td>...</td>\n",
       "      <td>...</td>\n",
       "      <td>...</td>\n",
       "      <td>...</td>\n",
       "      <td>...</td>\n",
       "      <td>...</td>\n",
       "      <td>...</td>\n",
       "      <td>...</td>\n",
       "      <td>...</td>\n",
       "      <td>...</td>\n",
       "      <td>...</td>\n",
       "    </tr>\n",
       "    <tr>\n",
       "      <th>16710</th>\n",
       "      <td>Samurai Warriors: Sanada Maru</td>\n",
       "      <td>PS3</td>\n",
       "      <td>2016</td>\n",
       "      <td>Action</td>\n",
       "      <td>0.00</td>\n",
       "      <td>0.00</td>\n",
       "      <td>0.01</td>\n",
       "      <td>0.00</td>\n",
       "      <td>NaN</td>\n",
       "      <td>NaN</td>\n",
       "      <td>NaN</td>\n",
       "    </tr>\n",
       "    <tr>\n",
       "      <th>16711</th>\n",
       "      <td>LMA Manager 2007</td>\n",
       "      <td>X360</td>\n",
       "      <td>2006</td>\n",
       "      <td>Sports</td>\n",
       "      <td>0.00</td>\n",
       "      <td>0.01</td>\n",
       "      <td>0.00</td>\n",
       "      <td>0.00</td>\n",
       "      <td>NaN</td>\n",
       "      <td>NaN</td>\n",
       "      <td>NaN</td>\n",
       "    </tr>\n",
       "    <tr>\n",
       "      <th>16712</th>\n",
       "      <td>Haitaka no Psychedelica</td>\n",
       "      <td>PSV</td>\n",
       "      <td>2016</td>\n",
       "      <td>Adventure</td>\n",
       "      <td>0.00</td>\n",
       "      <td>0.00</td>\n",
       "      <td>0.01</td>\n",
       "      <td>0.00</td>\n",
       "      <td>NaN</td>\n",
       "      <td>NaN</td>\n",
       "      <td>NaN</td>\n",
       "    </tr>\n",
       "    <tr>\n",
       "      <th>16713</th>\n",
       "      <td>Spirits &amp; Spells</td>\n",
       "      <td>GBA</td>\n",
       "      <td>2003</td>\n",
       "      <td>Platform</td>\n",
       "      <td>0.01</td>\n",
       "      <td>0.00</td>\n",
       "      <td>0.00</td>\n",
       "      <td>0.00</td>\n",
       "      <td>NaN</td>\n",
       "      <td>NaN</td>\n",
       "      <td>NaN</td>\n",
       "    </tr>\n",
       "    <tr>\n",
       "      <th>16714</th>\n",
       "      <td>Winning Post 8 2016</td>\n",
       "      <td>PSV</td>\n",
       "      <td>2016</td>\n",
       "      <td>Simulation</td>\n",
       "      <td>0.00</td>\n",
       "      <td>0.00</td>\n",
       "      <td>0.01</td>\n",
       "      <td>0.00</td>\n",
       "      <td>NaN</td>\n",
       "      <td>NaN</td>\n",
       "      <td>NaN</td>\n",
       "    </tr>\n",
       "  </tbody>\n",
       "</table>\n",
       "<p>16713 rows × 11 columns</p>\n",
       "</div>"
      ],
      "text/plain": [
       "                                name platform  year_of_release         genre  \\\n",
       "0                         Wii Sports      Wii             2006        Sports   \n",
       "1                  Super Mario Bros.      NES             1985      Platform   \n",
       "2                     Mario Kart Wii      Wii             2008        Racing   \n",
       "3                  Wii Sports Resort      Wii             2009        Sports   \n",
       "4           Pokemon Red/Pokemon Blue       GB             1996  Role-Playing   \n",
       "...                              ...      ...              ...           ...   \n",
       "16710  Samurai Warriors: Sanada Maru      PS3             2016        Action   \n",
       "16711               LMA Manager 2007     X360             2006        Sports   \n",
       "16712        Haitaka no Psychedelica      PSV             2016     Adventure   \n",
       "16713               Spirits & Spells      GBA             2003      Platform   \n",
       "16714            Winning Post 8 2016      PSV             2016    Simulation   \n",
       "\n",
       "       na_sales  eu_sales  jp_sales  other_sales  critic_score user_score  \\\n",
       "0         41.36     28.96      3.77         8.45          76.0          8   \n",
       "1         29.08      3.58      6.81         0.77           NaN        NaN   \n",
       "2         15.68     12.76      3.79         3.29          82.0        8.3   \n",
       "3         15.61     10.93      3.28         2.95          80.0          8   \n",
       "4         11.27      8.89     10.22         1.00           NaN        NaN   \n",
       "...         ...       ...       ...          ...           ...        ...   \n",
       "16710      0.00      0.00      0.01         0.00           NaN        NaN   \n",
       "16711      0.00      0.01      0.00         0.00           NaN        NaN   \n",
       "16712      0.00      0.00      0.01         0.00           NaN        NaN   \n",
       "16713      0.01      0.00      0.00         0.00           NaN        NaN   \n",
       "16714      0.00      0.00      0.01         0.00           NaN        NaN   \n",
       "\n",
       "      rating  \n",
       "0          E  \n",
       "1        NaN  \n",
       "2          E  \n",
       "3          E  \n",
       "4        NaN  \n",
       "...      ...  \n",
       "16710    NaN  \n",
       "16711    NaN  \n",
       "16712    NaN  \n",
       "16713    NaN  \n",
       "16714    NaN  \n",
       "\n",
       "[16713 rows x 11 columns]"
      ]
     },
     "execution_count": 51,
     "metadata": {},
     "output_type": "execute_result"
    }
   ],
   "source": [
    "df"
   ]
  },
  {
   "cell_type": "markdown",
   "metadata": {},
   "source": [
    "Объем снизился, а остальное может удалить"
   ]
  },
  {
   "cell_type": "code",
   "execution_count": 20,
   "metadata": {},
   "outputs": [
    {
     "name": "stdout",
     "output_type": "stream",
     "text": [
      "Кол-во строк после удаления: 16567\n"
     ]
    }
   ],
   "source": [
    "df.drop(data_mis('year_of_release').index, inplace= True)\n",
    "print('Кол-во строк после удаления: {}'.format(len(df['year_of_release'])))"
   ]
  },
  {
   "cell_type": "markdown",
   "metadata": {},
   "source": [
    "#### Уберем пропуски в рейтингах"
   ]
  },
  {
   "cell_type": "markdown",
   "metadata": {},
   "source": [
    "Заполним неявные пропуски в виде tbd"
   ]
  },
  {
   "cell_type": "code",
   "execution_count": 53,
   "metadata": {},
   "outputs": [],
   "source": [
    "tbd = df['user_score'] != 'tbd'\n",
    "df['user_score'].where(tbd, np.nan, inplace = True)\n"
   ]
  },
  {
   "cell_type": "code",
   "execution_count": 54,
   "metadata": {},
   "outputs": [
    {
     "name": "stdout",
     "output_type": "stream",
     "text": [
      "Объем пропусков по году выпуска от всего датасета после заполнения: 0.9%\n"
     ]
    }
   ],
   "source": [
    "print(\"Объем пропусков по году выпуска от всего датасета после заполнения: {:.1%}\".format(len(data_mis('year_of_release'))/len(df)))\n"
   ]
  },
  {
   "cell_type": "code",
   "execution_count": 55,
   "metadata": {},
   "outputs": [
    {
     "name": "stdout",
     "output_type": "stream",
     "text": [
      "Объем пропусков по рейтингу критиков от всего датасета: 51.3%\n",
      "Объем пропусков по рейтингу пользователей от всего датасета: 54.6%\n",
      "Объем пропусков по рейтингу организации ESRB от всего датасета: 40.5%\n"
     ]
    }
   ],
   "source": [
    "print(\"Объем пропусков по рейтингу критиков от всего датасета: {:.1%}\".format(len(data_mis('critic_score'))/len(df)))\n",
    "print(\"Объем пропусков по рейтингу пользователей от всего датасета: {:.1%}\".format(len(data_mis('user_score'))/len(df)))\n",
    "print(\"Объем пропусков по рейтингу организации ESRB от всего датасета: {:.1%}\".format(len(data_mis('rating'))/len(df)))\n"
   ]
  },
  {
   "cell_type": "markdown",
   "metadata": {},
   "source": [
    "Объем пропусков существенный, но для проверки гипотез должно хватить.\n",
    "### • Преобразуйте данные в нужные типы. Опишите, в каких столбцах заменили тип данных и почему;\n",
    "#### Столбцы содержат пропуски, поэтому переводим их в nullable тип Int64 и float64\n"
   ]
  },
  {
   "cell_type": "code",
   "execution_count": 58,
   "metadata": {},
   "outputs": [
    {
     "name": "stdout",
     "output_type": "stream",
     "text": [
      "<class 'pandas.core.frame.DataFrame'>\n",
      "Int64Index: 16713 entries, 0 to 16714\n",
      "Data columns (total 11 columns):\n",
      " #   Column           Non-Null Count  Dtype  \n",
      "---  ------           --------------  -----  \n",
      " 0   name             16713 non-null  object \n",
      " 1   platform         16713 non-null  object \n",
      " 2   year_of_release  16567 non-null  Int64  \n",
      " 3   genre            16713 non-null  object \n",
      " 4   na_sales         16713 non-null  float64\n",
      " 5   eu_sales         16713 non-null  float64\n",
      " 6   jp_sales         16713 non-null  float64\n",
      " 7   other_sales      16713 non-null  float64\n",
      " 8   critic_score     8137 non-null   Int64  \n",
      " 9   user_score       7590 non-null   float64\n",
      " 10  rating           9949 non-null   object \n",
      "dtypes: Int64(2), float64(5), object(4)\n",
      "memory usage: 1.6+ MB\n"
     ]
    },
    {
     "data": {
      "text/html": [
       "<div>\n",
       "<style scoped>\n",
       "    .dataframe tbody tr th:only-of-type {\n",
       "        vertical-align: middle;\n",
       "    }\n",
       "\n",
       "    .dataframe tbody tr th {\n",
       "        vertical-align: top;\n",
       "    }\n",
       "\n",
       "    .dataframe thead th {\n",
       "        text-align: right;\n",
       "    }\n",
       "</style>\n",
       "<table border=\"1\" class=\"dataframe\">\n",
       "  <thead>\n",
       "    <tr style=\"text-align: right;\">\n",
       "      <th></th>\n",
       "      <th>name</th>\n",
       "      <th>platform</th>\n",
       "      <th>year_of_release</th>\n",
       "      <th>genre</th>\n",
       "      <th>na_sales</th>\n",
       "      <th>eu_sales</th>\n",
       "      <th>jp_sales</th>\n",
       "      <th>other_sales</th>\n",
       "      <th>critic_score</th>\n",
       "      <th>user_score</th>\n",
       "      <th>rating</th>\n",
       "    </tr>\n",
       "  </thead>\n",
       "  <tbody>\n",
       "    <tr>\n",
       "      <th>0</th>\n",
       "      <td>Wii Sports</td>\n",
       "      <td>Wii</td>\n",
       "      <td>2006</td>\n",
       "      <td>Sports</td>\n",
       "      <td>41.36</td>\n",
       "      <td>28.96</td>\n",
       "      <td>3.77</td>\n",
       "      <td>8.45</td>\n",
       "      <td>76</td>\n",
       "      <td>8.0</td>\n",
       "      <td>E</td>\n",
       "    </tr>\n",
       "    <tr>\n",
       "      <th>1</th>\n",
       "      <td>Super Mario Bros.</td>\n",
       "      <td>NES</td>\n",
       "      <td>1985</td>\n",
       "      <td>Platform</td>\n",
       "      <td>29.08</td>\n",
       "      <td>3.58</td>\n",
       "      <td>6.81</td>\n",
       "      <td>0.77</td>\n",
       "      <td>&lt;NA&gt;</td>\n",
       "      <td>NaN</td>\n",
       "      <td>NaN</td>\n",
       "    </tr>\n",
       "    <tr>\n",
       "      <th>2</th>\n",
       "      <td>Mario Kart Wii</td>\n",
       "      <td>Wii</td>\n",
       "      <td>2008</td>\n",
       "      <td>Racing</td>\n",
       "      <td>15.68</td>\n",
       "      <td>12.76</td>\n",
       "      <td>3.79</td>\n",
       "      <td>3.29</td>\n",
       "      <td>82</td>\n",
       "      <td>8.3</td>\n",
       "      <td>E</td>\n",
       "    </tr>\n",
       "    <tr>\n",
       "      <th>3</th>\n",
       "      <td>Wii Sports Resort</td>\n",
       "      <td>Wii</td>\n",
       "      <td>2009</td>\n",
       "      <td>Sports</td>\n",
       "      <td>15.61</td>\n",
       "      <td>10.93</td>\n",
       "      <td>3.28</td>\n",
       "      <td>2.95</td>\n",
       "      <td>80</td>\n",
       "      <td>8.0</td>\n",
       "      <td>E</td>\n",
       "    </tr>\n",
       "    <tr>\n",
       "      <th>4</th>\n",
       "      <td>Pokemon Red/Pokemon Blue</td>\n",
       "      <td>GB</td>\n",
       "      <td>1996</td>\n",
       "      <td>Role-Playing</td>\n",
       "      <td>11.27</td>\n",
       "      <td>8.89</td>\n",
       "      <td>10.22</td>\n",
       "      <td>1.00</td>\n",
       "      <td>&lt;NA&gt;</td>\n",
       "      <td>NaN</td>\n",
       "      <td>NaN</td>\n",
       "    </tr>\n",
       "    <tr>\n",
       "      <th>...</th>\n",
       "      <td>...</td>\n",
       "      <td>...</td>\n",
       "      <td>...</td>\n",
       "      <td>...</td>\n",
       "      <td>...</td>\n",
       "      <td>...</td>\n",
       "      <td>...</td>\n",
       "      <td>...</td>\n",
       "      <td>...</td>\n",
       "      <td>...</td>\n",
       "      <td>...</td>\n",
       "    </tr>\n",
       "    <tr>\n",
       "      <th>16710</th>\n",
       "      <td>Samurai Warriors: Sanada Maru</td>\n",
       "      <td>PS3</td>\n",
       "      <td>2016</td>\n",
       "      <td>Action</td>\n",
       "      <td>0.00</td>\n",
       "      <td>0.00</td>\n",
       "      <td>0.01</td>\n",
       "      <td>0.00</td>\n",
       "      <td>&lt;NA&gt;</td>\n",
       "      <td>NaN</td>\n",
       "      <td>NaN</td>\n",
       "    </tr>\n",
       "    <tr>\n",
       "      <th>16711</th>\n",
       "      <td>LMA Manager 2007</td>\n",
       "      <td>X360</td>\n",
       "      <td>2006</td>\n",
       "      <td>Sports</td>\n",
       "      <td>0.00</td>\n",
       "      <td>0.01</td>\n",
       "      <td>0.00</td>\n",
       "      <td>0.00</td>\n",
       "      <td>&lt;NA&gt;</td>\n",
       "      <td>NaN</td>\n",
       "      <td>NaN</td>\n",
       "    </tr>\n",
       "    <tr>\n",
       "      <th>16712</th>\n",
       "      <td>Haitaka no Psychedelica</td>\n",
       "      <td>PSV</td>\n",
       "      <td>2016</td>\n",
       "      <td>Adventure</td>\n",
       "      <td>0.00</td>\n",
       "      <td>0.00</td>\n",
       "      <td>0.01</td>\n",
       "      <td>0.00</td>\n",
       "      <td>&lt;NA&gt;</td>\n",
       "      <td>NaN</td>\n",
       "      <td>NaN</td>\n",
       "    </tr>\n",
       "    <tr>\n",
       "      <th>16713</th>\n",
       "      <td>Spirits &amp; Spells</td>\n",
       "      <td>GBA</td>\n",
       "      <td>2003</td>\n",
       "      <td>Platform</td>\n",
       "      <td>0.01</td>\n",
       "      <td>0.00</td>\n",
       "      <td>0.00</td>\n",
       "      <td>0.00</td>\n",
       "      <td>&lt;NA&gt;</td>\n",
       "      <td>NaN</td>\n",
       "      <td>NaN</td>\n",
       "    </tr>\n",
       "    <tr>\n",
       "      <th>16714</th>\n",
       "      <td>Winning Post 8 2016</td>\n",
       "      <td>PSV</td>\n",
       "      <td>2016</td>\n",
       "      <td>Simulation</td>\n",
       "      <td>0.00</td>\n",
       "      <td>0.00</td>\n",
       "      <td>0.01</td>\n",
       "      <td>0.00</td>\n",
       "      <td>&lt;NA&gt;</td>\n",
       "      <td>NaN</td>\n",
       "      <td>NaN</td>\n",
       "    </tr>\n",
       "  </tbody>\n",
       "</table>\n",
       "<p>16713 rows × 11 columns</p>\n",
       "</div>"
      ],
      "text/plain": [
       "                                name platform  year_of_release         genre  \\\n",
       "0                         Wii Sports      Wii             2006        Sports   \n",
       "1                  Super Mario Bros.      NES             1985      Platform   \n",
       "2                     Mario Kart Wii      Wii             2008        Racing   \n",
       "3                  Wii Sports Resort      Wii             2009        Sports   \n",
       "4           Pokemon Red/Pokemon Blue       GB             1996  Role-Playing   \n",
       "...                              ...      ...              ...           ...   \n",
       "16710  Samurai Warriors: Sanada Maru      PS3             2016        Action   \n",
       "16711               LMA Manager 2007     X360             2006        Sports   \n",
       "16712        Haitaka no Psychedelica      PSV             2016     Adventure   \n",
       "16713               Spirits & Spells      GBA             2003      Platform   \n",
       "16714            Winning Post 8 2016      PSV             2016    Simulation   \n",
       "\n",
       "       na_sales  eu_sales  jp_sales  other_sales  critic_score  user_score  \\\n",
       "0         41.36     28.96      3.77         8.45            76         8.0   \n",
       "1         29.08      3.58      6.81         0.77          <NA>         NaN   \n",
       "2         15.68     12.76      3.79         3.29            82         8.3   \n",
       "3         15.61     10.93      3.28         2.95            80         8.0   \n",
       "4         11.27      8.89     10.22         1.00          <NA>         NaN   \n",
       "...         ...       ...       ...          ...           ...         ...   \n",
       "16710      0.00      0.00      0.01         0.00          <NA>         NaN   \n",
       "16711      0.00      0.01      0.00         0.00          <NA>         NaN   \n",
       "16712      0.00      0.00      0.01         0.00          <NA>         NaN   \n",
       "16713      0.01      0.00      0.00         0.00          <NA>         NaN   \n",
       "16714      0.00      0.00      0.01         0.00          <NA>         NaN   \n",
       "\n",
       "      rating  \n",
       "0          E  \n",
       "1        NaN  \n",
       "2          E  \n",
       "3          E  \n",
       "4        NaN  \n",
       "...      ...  \n",
       "16710    NaN  \n",
       "16711    NaN  \n",
       "16712    NaN  \n",
       "16713    NaN  \n",
       "16714    NaN  \n",
       "\n",
       "[16713 rows x 11 columns]"
      ]
     },
     "execution_count": 58,
     "metadata": {},
     "output_type": "execute_result"
    }
   ],
   "source": [
    "df['year_of_release'] = df['year_of_release'].astype('Int64')\n",
    "df['critic_score'] = df['critic_score'].astype('Int64')\n",
    "df['user_score'] = df['user_score'].astype('float64')\n",
    "df.info()\n",
    "df"
   ]
  },
  {
   "cell_type": "markdown",
   "metadata": {},
   "source": [
    "<div class=\"alert alert-warning\">\n",
    "<h2> Комментарий ревьюера</h2>\n",
    "\n",
    "Обрати пожалуйста внимание, что мы используем один метод `astype()` к нескольким столбцам. \n",
    "    \n",
    "Рекомендовал бы применять его к списку столбцов, чтобы оптимизировать свои действия.\n",
    "    \n",
    "</div>"
   ]
  },
  {
   "cell_type": "markdown",
   "metadata": {},
   "source": [
    "### Посчитайте суммарные продажи во всех регионах и запишите их в отдельный столбец.\n"
   ]
  },
  {
   "cell_type": "code",
   "execution_count": 24,
   "metadata": {},
   "outputs": [],
   "source": [
    "df['total_sales'] = df['na_sales'] + df['eu_sales'] + df['jp_sales'] + df['other_sales']"
   ]
  },
  {
   "cell_type": "markdown",
   "metadata": {},
   "source": [
    "<div class=\"alert alert-success\">\n",
    "<h2> Комментарий ревьюера</h2>\n",
    "\n",
    "В том числе у нас есть готовый метод `sum()` с атрибутом `axis`=`1`, для подсчета суммарных продаж.    \n",
    "</div>"
   ]
  },
  {
   "cell_type": "markdown",
   "metadata": {},
   "source": [
    "### Шаг 3. Проведите исследовательский анализ данных\n",
    "#### Посмотрите, сколько игр выпускалось в разные годы. Важны ли данные за все периоды?"
   ]
  },
  {
   "cell_type": "code",
   "execution_count": 25,
   "metadata": {},
   "outputs": [
    {
     "data": {
      "text/plain": [
       "[Text(0, 0.5, 'Кол-во игр'), Text(0.5, 0, 'Год релиза')]"
      ]
     },
     "execution_count": 25,
     "metadata": {},
     "output_type": "execute_result"
    },
    {
     "data": {
      "image/png": "[encoded data removed]",
      "text/plain": [
       "<Figure size 432x288 with 1 Axes>"
      ]
     },
     "metadata": {
      "needs_background": "light"
     },
     "output_type": "display_data"
    }
   ],
   "source": [
    "pivot_years = df.pivot_table(index = 'year_of_release', values ='name', aggfunc = 'count')\n",
    "pivot_years.plot(title = 'Количество игр по годам').set(xlabel = 'Год релиза', ylabel = 'Кол-во игр')"
   ]
  },
  {
   "cell_type": "markdown",
   "metadata": {},
   "source": [
    "Вывод: \n",
    "- Кол-во игр начинает расти с середины 90-х \n",
    "- Период до не содержит много данных и не будет на сильно интересовать"
   ]
  },
  {
   "cell_type": "markdown",
   "metadata": {},
   "source": [
    "#### Посмотрите, как менялись продажи по платформам. Выберите платформы с наибольшими суммарными продажами и постройте распределение по годам. За какой характерный срок появляются новые и исчезают старые платформы?\n"
   ]
  },
  {
   "cell_type": "code",
   "execution_count": 26,
   "metadata": {},
   "outputs": [
    {
     "data": {
      "text/plain": [
       "[Text(0, 0.5, 'Кол-во игр'), Text(0.5, 0, 'Платформа')]"
      ]
     },
     "execution_count": 26,
     "metadata": {},
     "output_type": "execute_result"
    },
    {
     "data": {
      "image/png": "[encoded data removed]",
      "text/plain": [
       "<Figure size 720x360 with 1 Axes>"
      ]
     },
     "metadata": {
      "needs_background": "light"
     },
     "output_type": "display_data"
    }
   ],
   "source": [
    "pivot_platform = df.pivot_table(index = 'platform', values = 'total_sales', aggfunc = 'sum').sort_values(by = 'total_sales', ascending = False)\n",
    "\n",
    "(pivot_platform\n",
    "                .plot(title = 'Количество игр по платформам',kind='bar', figsize=(10, 5),legend=False)\n",
    "                .set(xlabel = 'Платформа', ylabel = 'Кол-во игр')\n",
    ")"
   ]
  },
  {
   "cell_type": "code",
   "execution_count": 27,
   "metadata": {},
   "outputs": [
    {
     "data": {
      "text/html": [
       "<div>\n",
       "<style scoped>\n",
       "    .dataframe tbody tr th:only-of-type {\n",
       "        vertical-align: middle;\n",
       "    }\n",
       "\n",
       "    .dataframe tbody tr th {\n",
       "        vertical-align: top;\n",
       "    }\n",
       "\n",
       "    .dataframe thead th {\n",
       "        text-align: right;\n",
       "    }\n",
       "</style>\n",
       "<table border=\"1\" class=\"dataframe\">\n",
       "  <thead>\n",
       "    <tr style=\"text-align: right;\">\n",
       "      <th></th>\n",
       "      <th>total_sales</th>\n",
       "    </tr>\n",
       "    <tr>\n",
       "      <th>platform</th>\n",
       "      <th></th>\n",
       "    </tr>\n",
       "  </thead>\n",
       "  <tbody>\n",
       "    <tr>\n",
       "      <th>PS2</th>\n",
       "      <td>1247.16</td>\n",
       "    </tr>\n",
       "    <tr>\n",
       "      <th>X360</th>\n",
       "      <td>966.61</td>\n",
       "    </tr>\n",
       "    <tr>\n",
       "      <th>PS3</th>\n",
       "      <td>935.19</td>\n",
       "    </tr>\n",
       "    <tr>\n",
       "      <th>Wii</th>\n",
       "      <td>903.31</td>\n",
       "    </tr>\n",
       "    <tr>\n",
       "      <th>DS</th>\n",
       "      <td>804.28</td>\n",
       "    </tr>\n",
       "    <tr>\n",
       "      <th>PS</th>\n",
       "      <td>727.58</td>\n",
       "    </tr>\n",
       "    <tr>\n",
       "      <th>PS4</th>\n",
       "      <td>314.14</td>\n",
       "    </tr>\n",
       "    <tr>\n",
       "      <th>GBA</th>\n",
       "      <td>313.73</td>\n",
       "    </tr>\n",
       "    <tr>\n",
       "      <th>PSP</th>\n",
       "      <td>293.57</td>\n",
       "    </tr>\n",
       "    <tr>\n",
       "      <th>PC</th>\n",
       "      <td>258.86</td>\n",
       "    </tr>\n",
       "  </tbody>\n",
       "</table>\n",
       "</div>"
      ],
      "text/plain": [
       "          total_sales\n",
       "platform             \n",
       "PS2           1247.16\n",
       "X360           966.61\n",
       "PS3            935.19\n",
       "Wii            903.31\n",
       "DS             804.28\n",
       "PS             727.58\n",
       "PS4            314.14\n",
       "GBA            313.73\n",
       "PSP            293.57\n",
       "PC             258.86"
      ]
     },
     "execution_count": 27,
     "metadata": {},
     "output_type": "execute_result"
    }
   ],
   "source": [
    "top_10_platform = pivot_platform.head(10)\n",
    "top_10_platform"
   ]
  },
  {
   "cell_type": "code",
   "execution_count": 28,
   "metadata": {},
   "outputs": [],
   "source": [
    "def annual_sales_by_platform(df, plaform_name):\n",
    "    '''\n",
    "    Общий продажи по платформе по годам\n",
    "    '''\n",
    "    \n",
    "    return(\n",
    "        df.query('platform == @plaform_name')\n",
    "        .pivot_table(index = 'year_of_release', values = 'total_sales', aggfunc = 'sum')\n",
    "        .sort_values('year_of_release', ascending = False)\n",
    "    )\n"
   ]
  },
  {
   "cell_type": "markdown",
   "metadata": {},
   "source": [
    "#### Построим график общих продаж по топ платформам по годам"
   ]
  },
  {
   "cell_type": "code",
   "execution_count": 29,
   "metadata": {},
   "outputs": [
    {
     "data": {
      "image/png": "[encoded data removed]",
      "text/plain": [
       "<Figure size 720x360 with 1 Axes>"
      ]
     },
     "metadata": {
      "needs_background": "light"
     },
     "output_type": "display_data"
    }
   ],
   "source": [
    "for x in list(top_10_platform.index):\n",
    "    annual_sales_by_platform(df, x)['total_sales'].plot(figsize = (10,5), label = x)\n",
    "    plt.xlabel(\"Год релиза\", labelpad=15)\n",
    "    plt.ylabel(\"Итого продажи\", labelpad=15)\n",
    "    plt.legend()"
   ]
  },
  {
   "cell_type": "markdown",
   "metadata": {},
   "source": [
    "**Вывод:**\n",
    "- На графики видно, что каждая платфома проходит свой жизнный цикл за период около 5 лет по 2,5 года на рост и падение выручки\n",
    "- На примере PS видно как снижение продаж старой платвормы заменяется выходом новой пока продажи от старой еще не упали до нуля\n",
    "- Наибольшая концентрация продаж игр по топовым платформам приходит на промежуток 2005-2015 гг., которого нам будет достаточно для дальнейшего анализа, но с учетом сроком жизни платформ анализировать лучше всего актуальные платформы за последние  лет"
   ]
  },
  {
   "cell_type": "markdown",
   "metadata": {},
   "source": [
    "<div class=\"alert alert-success\">\n",
    "<h2> Комментарий ревьюера</h2>\n",
    "\n",
    "Логичные выводы. Хорошо, что автоматизировали график с помощью цикла.\n",
    "    \n",
    "Было бы здорово посмотреть на динамику каждой платформы в отдельно.\n",
    "    \n",
    "</div>"
   ]
  },
  {
   "cell_type": "markdown",
   "metadata": {},
   "source": [
    "#### - Возьмите данные за соответствующий актуальный период. Актуальный период определите самостоятельно в результате исследования предыдущих вопросов. Основной фактор — эти данные помогут построить прогноз на 2017 год.\n",
    "\n",
    "#### - Не учитывайте в работе данные за предыдущие годы. (не очень понятно что это значит?)"
   ]
  },
  {
   "cell_type": "code",
   "execution_count": 30,
   "metadata": {},
   "outputs": [
    {
     "data": {
      "text/html": [
       "<div>\n",
       "<style scoped>\n",
       "    .dataframe tbody tr th:only-of-type {\n",
       "        vertical-align: middle;\n",
       "    }\n",
       "\n",
       "    .dataframe tbody tr th {\n",
       "        vertical-align: top;\n",
       "    }\n",
       "\n",
       "    .dataframe thead th {\n",
       "        text-align: right;\n",
       "    }\n",
       "</style>\n",
       "<table border=\"1\" class=\"dataframe\">\n",
       "  <thead>\n",
       "    <tr style=\"text-align: right;\">\n",
       "      <th></th>\n",
       "      <th>name</th>\n",
       "      <th>platform</th>\n",
       "      <th>year_of_release</th>\n",
       "      <th>genre</th>\n",
       "      <th>na_sales</th>\n",
       "      <th>eu_sales</th>\n",
       "      <th>jp_sales</th>\n",
       "      <th>other_sales</th>\n",
       "      <th>critic_score</th>\n",
       "      <th>user_score</th>\n",
       "      <th>rating</th>\n",
       "      <th>total_sales</th>\n",
       "    </tr>\n",
       "  </thead>\n",
       "  <tbody>\n",
       "    <tr>\n",
       "      <th>16</th>\n",
       "      <td>Grand Theft Auto V</td>\n",
       "      <td>PS3</td>\n",
       "      <td>2013</td>\n",
       "      <td>Action</td>\n",
       "      <td>7.02</td>\n",
       "      <td>9.09</td>\n",
       "      <td>0.98</td>\n",
       "      <td>3.96</td>\n",
       "      <td>97</td>\n",
       "      <td>8.2</td>\n",
       "      <td>M</td>\n",
       "      <td>21.05</td>\n",
       "    </tr>\n",
       "    <tr>\n",
       "      <th>23</th>\n",
       "      <td>Grand Theft Auto V</td>\n",
       "      <td>X360</td>\n",
       "      <td>2013</td>\n",
       "      <td>Action</td>\n",
       "      <td>9.66</td>\n",
       "      <td>5.14</td>\n",
       "      <td>0.06</td>\n",
       "      <td>1.41</td>\n",
       "      <td>97</td>\n",
       "      <td>8.1</td>\n",
       "      <td>M</td>\n",
       "      <td>16.27</td>\n",
       "    </tr>\n",
       "    <tr>\n",
       "      <th>29</th>\n",
       "      <td>Call of Duty: Modern Warfare 3</td>\n",
       "      <td>X360</td>\n",
       "      <td>2011</td>\n",
       "      <td>Shooter</td>\n",
       "      <td>9.04</td>\n",
       "      <td>4.24</td>\n",
       "      <td>0.13</td>\n",
       "      <td>1.32</td>\n",
       "      <td>88</td>\n",
       "      <td>3.4</td>\n",
       "      <td>M</td>\n",
       "      <td>14.73</td>\n",
       "    </tr>\n",
       "    <tr>\n",
       "      <th>31</th>\n",
       "      <td>Call of Duty: Black Ops 3</td>\n",
       "      <td>PS4</td>\n",
       "      <td>2015</td>\n",
       "      <td>Shooter</td>\n",
       "      <td>6.03</td>\n",
       "      <td>5.86</td>\n",
       "      <td>0.36</td>\n",
       "      <td>2.38</td>\n",
       "      <td>&lt;NA&gt;</td>\n",
       "      <td>NaN</td>\n",
       "      <td>NaN</td>\n",
       "      <td>14.63</td>\n",
       "    </tr>\n",
       "    <tr>\n",
       "      <th>33</th>\n",
       "      <td>Pokemon X/Pokemon Y</td>\n",
       "      <td>3DS</td>\n",
       "      <td>2013</td>\n",
       "      <td>Role-Playing</td>\n",
       "      <td>5.28</td>\n",
       "      <td>4.19</td>\n",
       "      <td>4.35</td>\n",
       "      <td>0.78</td>\n",
       "      <td>&lt;NA&gt;</td>\n",
       "      <td>NaN</td>\n",
       "      <td>NaN</td>\n",
       "      <td>14.60</td>\n",
       "    </tr>\n",
       "    <tr>\n",
       "      <th>...</th>\n",
       "      <td>...</td>\n",
       "      <td>...</td>\n",
       "      <td>...</td>\n",
       "      <td>...</td>\n",
       "      <td>...</td>\n",
       "      <td>...</td>\n",
       "      <td>...</td>\n",
       "      <td>...</td>\n",
       "      <td>...</td>\n",
       "      <td>...</td>\n",
       "      <td>...</td>\n",
       "      <td>...</td>\n",
       "    </tr>\n",
       "    <tr>\n",
       "      <th>16688</th>\n",
       "      <td>Outdoors Unleashed: Africa 3D</td>\n",
       "      <td>3DS</td>\n",
       "      <td>2011</td>\n",
       "      <td>Sports</td>\n",
       "      <td>0.01</td>\n",
       "      <td>0.00</td>\n",
       "      <td>0.00</td>\n",
       "      <td>0.00</td>\n",
       "      <td>&lt;NA&gt;</td>\n",
       "      <td>NaN</td>\n",
       "      <td>T</td>\n",
       "      <td>0.01</td>\n",
       "    </tr>\n",
       "    <tr>\n",
       "      <th>16692</th>\n",
       "      <td>Metal Gear Solid V: Ground Zeroes</td>\n",
       "      <td>PC</td>\n",
       "      <td>2014</td>\n",
       "      <td>Action</td>\n",
       "      <td>0.00</td>\n",
       "      <td>0.01</td>\n",
       "      <td>0.00</td>\n",
       "      <td>0.00</td>\n",
       "      <td>80</td>\n",
       "      <td>7.6</td>\n",
       "      <td>M</td>\n",
       "      <td>0.01</td>\n",
       "    </tr>\n",
       "    <tr>\n",
       "      <th>16696</th>\n",
       "      <td>Breach</td>\n",
       "      <td>PC</td>\n",
       "      <td>2011</td>\n",
       "      <td>Shooter</td>\n",
       "      <td>0.01</td>\n",
       "      <td>0.00</td>\n",
       "      <td>0.00</td>\n",
       "      <td>0.00</td>\n",
       "      <td>61</td>\n",
       "      <td>5.8</td>\n",
       "      <td>T</td>\n",
       "      <td>0.01</td>\n",
       "    </tr>\n",
       "    <tr>\n",
       "      <th>16702</th>\n",
       "      <td>STORM: Frontline Nation</td>\n",
       "      <td>PC</td>\n",
       "      <td>2011</td>\n",
       "      <td>Strategy</td>\n",
       "      <td>0.00</td>\n",
       "      <td>0.01</td>\n",
       "      <td>0.00</td>\n",
       "      <td>0.00</td>\n",
       "      <td>60</td>\n",
       "      <td>7.2</td>\n",
       "      <td>E10+</td>\n",
       "      <td>0.01</td>\n",
       "    </tr>\n",
       "    <tr>\n",
       "      <th>16707</th>\n",
       "      <td>Aiyoku no Eustia</td>\n",
       "      <td>PSV</td>\n",
       "      <td>2014</td>\n",
       "      <td>Misc</td>\n",
       "      <td>0.00</td>\n",
       "      <td>0.00</td>\n",
       "      <td>0.01</td>\n",
       "      <td>0.00</td>\n",
       "      <td>&lt;NA&gt;</td>\n",
       "      <td>NaN</td>\n",
       "      <td>NaN</td>\n",
       "      <td>0.01</td>\n",
       "    </tr>\n",
       "  </tbody>\n",
       "</table>\n",
       "<p>3506 rows × 12 columns</p>\n",
       "</div>"
      ],
      "text/plain": [
       "                                    name platform  year_of_release  \\\n",
       "16                    Grand Theft Auto V      PS3             2013   \n",
       "23                    Grand Theft Auto V     X360             2013   \n",
       "29        Call of Duty: Modern Warfare 3     X360             2011   \n",
       "31             Call of Duty: Black Ops 3      PS4             2015   \n",
       "33                   Pokemon X/Pokemon Y      3DS             2013   \n",
       "...                                  ...      ...              ...   \n",
       "16688      Outdoors Unleashed: Africa 3D      3DS             2011   \n",
       "16692  Metal Gear Solid V: Ground Zeroes       PC             2014   \n",
       "16696                             Breach       PC             2011   \n",
       "16702            STORM: Frontline Nation       PC             2011   \n",
       "16707                   Aiyoku no Eustia      PSV             2014   \n",
       "\n",
       "              genre  na_sales  eu_sales  jp_sales  other_sales  critic_score  \\\n",
       "16           Action      7.02      9.09      0.98         3.96            97   \n",
       "23           Action      9.66      5.14      0.06         1.41            97   \n",
       "29          Shooter      9.04      4.24      0.13         1.32            88   \n",
       "31          Shooter      6.03      5.86      0.36         2.38          <NA>   \n",
       "33     Role-Playing      5.28      4.19      4.35         0.78          <NA>   \n",
       "...             ...       ...       ...       ...          ...           ...   \n",
       "16688        Sports      0.01      0.00      0.00         0.00          <NA>   \n",
       "16692        Action      0.00      0.01      0.00         0.00            80   \n",
       "16696       Shooter      0.01      0.00      0.00         0.00            61   \n",
       "16702      Strategy      0.00      0.01      0.00         0.00            60   \n",
       "16707          Misc      0.00      0.00      0.01         0.00          <NA>   \n",
       "\n",
       "       user_score rating  total_sales  \n",
       "16            8.2      M        21.05  \n",
       "23            8.1      M        16.27  \n",
       "29            3.4      M        14.73  \n",
       "31            NaN    NaN        14.63  \n",
       "33            NaN    NaN        14.60  \n",
       "...           ...    ...          ...  \n",
       "16688         NaN      T         0.01  \n",
       "16692         7.6      M         0.01  \n",
       "16696         5.8      T         0.01  \n",
       "16702         7.2   E10+         0.01  \n",
       "16707         NaN    NaN         0.01  \n",
       "\n",
       "[3506 rows x 12 columns]"
      ]
     },
     "execution_count": 30,
     "metadata": {},
     "output_type": "execute_result"
    }
   ],
   "source": [
    "df_analyzed_games = df[(df['year_of_release'] < 2016) & (df['year_of_release'] > 2010)]\n",
    "df_analyzed_games"
   ]
  },
  {
   "cell_type": "markdown",
   "metadata": {},
   "source": [
    "#### - Какие платформы лидируют по продажам, растут или падают? Выберите несколько потенциально прибыльных платформ.\n"
   ]
  },
  {
   "cell_type": "code",
   "execution_count": 31,
   "metadata": {},
   "outputs": [
    {
     "data": {
      "text/plain": [
       "[Text(0, 0.5, 'Кол-во игр'), Text(0.5, 0, 'Платформа')]"
      ]
     },
     "execution_count": 31,
     "metadata": {},
     "output_type": "execute_result"
    },
    {
     "data": {
      "image/png": "[encoded data removed]",
      "text/plain": [
       "<Figure size 720x360 with 1 Axes>"
      ]
     },
     "metadata": {
      "needs_background": "light"
     },
     "output_type": "display_data"
    }
   ],
   "source": [
    "pivot_platform_analyzed_top_10 = df_analyzed_games.pivot_table(index = 'platform', values = 'total_sales', aggfunc = 'sum').sort_values(by = 'total_sales', ascending = False).head(10)\n",
    "\n",
    "(pivot_platform_analyzed_top_10\n",
    "                .plot(title = 'Количество игр по платформам',kind='bar', figsize=(10, 5),legend=False)\n",
    "                .set(xlabel = 'Платформа', ylabel = 'Кол-во игр')\n",
    ")"
   ]
  },
  {
   "cell_type": "code",
   "execution_count": 32,
   "metadata": {},
   "outputs": [
    {
     "data": {
      "image/png": "[encoded data removed]",
      "text/plain": [
       "<Figure size 720x360 with 1 Axes>"
      ]
     },
     "metadata": {
      "needs_background": "light"
     },
     "output_type": "display_data"
    }
   ],
   "source": [
    "for x in list(pivot_platform_analyzed_top_10.index):\n",
    "    annual_sales_by_platform(df_analyzed_games, x)['total_sales'].plot(figsize = (10,5), label = x)\n",
    "    plt.xlabel(\"Год релиза\", labelpad=10)\n",
    "    plt.ylabel(\"Итого продажи\", labelpad=15)\n",
    "    plt.legend()"
   ]
  },
  {
   "cell_type": "markdown",
   "metadata": {},
   "source": [
    "Вывод:\n",
    "- Лидерами по продажам являются консоли прошлого поколения PS3 и XBOX360. Это логично ведь присутвуют на рынке дольше чем консоли нового поколения и более распространены среди геймеров. Однако динамика продаж игр для этих платформ стагнирует как и по всем другим за исключением двух консолей нового поколения.\n",
    "- Продажы игр для консолей нового поколения (за период представленный в датасете), а именно PS4 и XBox One растут"
   ]
  },
  {
   "cell_type": "markdown",
   "metadata": {},
   "source": [
    "<div class=\"alert alert-success\">\n",
    "<h2> Комментарий ревьюера</h2>\n",
    "\n",
    "Трудно не согласиться :)     \n",
    "</div>"
   ]
  },
  {
   "cell_type": "markdown",
   "metadata": {},
   "source": [
    "### - Постройте график «ящик с усами» по глобальным продажам игр в разбивке по платформам. Опишите результат."
   ]
  },
  {
   "cell_type": "code",
   "execution_count": 33,
   "metadata": {},
   "outputs": [],
   "source": [
    "selected_platforms = ['PS4','XOne']"
   ]
  },
  {
   "cell_type": "code",
   "execution_count": 34,
   "metadata": {},
   "outputs": [
    {
     "name": "stdout",
     "output_type": "stream",
     "text": [
      "Среднее значение общих продаж игр для PS4 : 49.17\n",
      "Среднее значение общих продаж игр для XOne : 26.80\n"
     ]
    },
    {
     "data": {
      "image/png": "[encoded data removed]",
      "text/plain": [
       "<Figure size 432x288 with 2 Axes>"
      ]
     },
     "metadata": {
      "needs_background": "light"
     },
     "output_type": "display_data"
    }
   ],
   "source": [
    "fig, axs = plt.subplots(1, 2 , sharey = True)\n",
    "\n",
    "for x, platform in enumerate(selected_platforms):\n",
    "    df = annual_sales_by_platform(df_analyzed_games, platform)\n",
    "    print(\"Среднее значение общих продаж игр для\",platform,\":\", \"{:.2f}\".format(df['total_sales'].mean()))\n",
    "    df.boxplot('total_sales', ax=axs[x])\n",
    "    axs[x].set_title(platform)\n",
    "\n",
    "plt.show()"
   ]
  },
  {
   "cell_type": "markdown",
   "metadata": {},
   "source": [
    "Вывод:\n",
    "- Средний объем продаж игр для PS4 превышает продажи XBOX One практически в два раза"
   ]
  },
  {
   "cell_type": "markdown",
   "metadata": {},
   "source": [
    "### - Посмотрите, как влияют на продажи внутри одной популярной платформы отзывы пользователей и критиков. Постройте диаграмму рассеяния и посчитайте корреляцию между отзывами и продажами. Сформулируйте выводы.\n"
   ]
  },
  {
   "cell_type": "code",
   "execution_count": 35,
   "metadata": {},
   "outputs": [],
   "source": [
    "ps4 = df_analyzed_games.query(\"platform == 'PS4'\")\n",
    "xbox = df_analyzed_games.query(\"platform == 'XOne'\")"
   ]
  },
  {
   "cell_type": "code",
   "execution_count": 36,
   "metadata": {},
   "outputs": [
    {
     "name": "stdout",
     "output_type": "stream",
     "text": [
      "Корреляционный анализ для PS4\n"
     ]
    },
    {
     "ename": "TypeError",
     "evalue": "float() argument must be a string or a number, not 'NAType'",
     "output_type": "error",
     "traceback": [
      "\u001b[1;31m---------------------------------------------------------------------------\u001b[0m",
      "\u001b[1;31mTypeError\u001b[0m                                 Traceback (most recent call last)",
      "\u001b[1;32m<ipython-input-36-467044351344>\u001b[0m in \u001b[0;36m<module>\u001b[1;34m\u001b[0m\n\u001b[0;32m      3\u001b[0m \u001b[1;31m# Проведем Корреляционный анализ\u001b[0m\u001b[1;33m\u001b[0m\u001b[1;33m\u001b[0m\u001b[1;33m\u001b[0m\u001b[0m\n\u001b[0;32m      4\u001b[0m \u001b[0mprint\u001b[0m\u001b[1;33m(\u001b[0m\u001b[1;34m'Корреляционный анализ для PS4'\u001b[0m\u001b[1;33m)\u001b[0m\u001b[1;33m\u001b[0m\u001b[1;33m\u001b[0m\u001b[0m\n\u001b[1;32m----> 5\u001b[1;33m \u001b[0mps4\u001b[0m\u001b[1;33m[\u001b[0m\u001b[0mfeatures\u001b[0m\u001b[1;33m]\u001b[0m\u001b[1;33m.\u001b[0m\u001b[0mcorr\u001b[0m\u001b[1;33m(\u001b[0m\u001b[1;33m)\u001b[0m\u001b[0;31m\\\u001b[0m\u001b[1;33m\u001b[0m\u001b[1;33m\u001b[0m\u001b[0m\n\u001b[0m\u001b[0;32m      6\u001b[0m \u001b[1;33m.\u001b[0m\u001b[0mstyle\u001b[0m\u001b[1;33m.\u001b[0m\u001b[0mbackground_gradient\u001b[0m\u001b[1;33m(\u001b[0m\u001b[1;34m\"RdBu_r\"\u001b[0m\u001b[1;33m)\u001b[0m\u001b[1;33m\u001b[0m\u001b[1;33m\u001b[0m\u001b[0m\n",
      "\u001b[1;32m~\\AppData\\Local\\Continuum\\anaconda3\\lib\\site-packages\\pandas\\core\\frame.py\u001b[0m in \u001b[0;36mcorr\u001b[1;34m(self, method, min_periods)\u001b[0m\n\u001b[0;32m   7464\u001b[0m \u001b[1;33m\u001b[0m\u001b[0m\n\u001b[0;32m   7465\u001b[0m         \u001b[1;32mif\u001b[0m \u001b[0mmethod\u001b[0m \u001b[1;33m==\u001b[0m \u001b[1;34m\"pearson\"\u001b[0m\u001b[1;33m:\u001b[0m\u001b[1;33m\u001b[0m\u001b[1;33m\u001b[0m\u001b[0m\n\u001b[1;32m-> 7466\u001b[1;33m             \u001b[0mcorrel\u001b[0m \u001b[1;33m=\u001b[0m \u001b[0mlibalgos\u001b[0m\u001b[1;33m.\u001b[0m\u001b[0mnancorr\u001b[0m\u001b[1;33m(\u001b[0m\u001b[0mensure_float64\u001b[0m\u001b[1;33m(\u001b[0m\u001b[0mmat\u001b[0m\u001b[1;33m)\u001b[0m\u001b[1;33m,\u001b[0m \u001b[0mminp\u001b[0m\u001b[1;33m=\u001b[0m\u001b[0mmin_periods\u001b[0m\u001b[1;33m)\u001b[0m\u001b[1;33m\u001b[0m\u001b[1;33m\u001b[0m\u001b[0m\n\u001b[0m\u001b[0;32m   7467\u001b[0m         \u001b[1;32melif\u001b[0m \u001b[0mmethod\u001b[0m \u001b[1;33m==\u001b[0m \u001b[1;34m\"spearman\"\u001b[0m\u001b[1;33m:\u001b[0m\u001b[1;33m\u001b[0m\u001b[1;33m\u001b[0m\u001b[0m\n\u001b[0;32m   7468\u001b[0m             \u001b[0mcorrel\u001b[0m \u001b[1;33m=\u001b[0m \u001b[0mlibalgos\u001b[0m\u001b[1;33m.\u001b[0m\u001b[0mnancorr_spearman\u001b[0m\u001b[1;33m(\u001b[0m\u001b[0mensure_float64\u001b[0m\u001b[1;33m(\u001b[0m\u001b[0mmat\u001b[0m\u001b[1;33m)\u001b[0m\u001b[1;33m,\u001b[0m \u001b[0mminp\u001b[0m\u001b[1;33m=\u001b[0m\u001b[0mmin_periods\u001b[0m\u001b[1;33m)\u001b[0m\u001b[1;33m\u001b[0m\u001b[1;33m\u001b[0m\u001b[0m\n",
      "\u001b[1;32mpandas\\_libs\\algos_common_helper.pxi\u001b[0m in \u001b[0;36mpandas._libs.algos.ensure_float64\u001b[1;34m()\u001b[0m\n",
      "\u001b[1;31mTypeError\u001b[0m: float() argument must be a string or a number, not 'NAType'"
     ]
    }
   ],
   "source": [
    "features = ['critic_score','user_score','total_sales']\n",
    "\n",
    "# Проведем Корреляционный анализ\n",
    "print('Корреляционный анализ для PS4')\n",
    "ps4[features].corr()\\\n",
    ".style.background_gradient(\"RdBu_r\")\n"
   ]
  },
  {
   "cell_type": "markdown",
   "metadata": {},
   "source": [
    "<div class=\"alert alert-warning\">\n",
    "<h2> Комментарий ревьюера</h2>\n",
    "\n",
    "Красиво :) \n",
    "    \n",
    "Посмотри в том числе метод `heatmap` в библиотеке `seaborn`. \n",
    "    \n",
    "</div>"
   ]
  },
  {
   "cell_type": "code",
   "execution_count": 33,
   "metadata": {},
   "outputs": [
    {
     "data": {
      "image/png": "[encoded data removed]",
      "text/plain": [
       "<Figure size 432x288 with 1 Axes>"
      ]
     },
     "metadata": {
      "needs_background": "light"
     },
     "output_type": "display_data"
    },
    {
     "data": {
      "image/png": "[encoded data removed]",
      "text/plain": [
       "<Figure size 432x288 with 1 Axes>"
      ]
     },
     "metadata": {
      "needs_background": "light"
     },
     "output_type": "display_data"
    }
   ],
   "source": [
    "ps4.plot(x='user_score', y='total_sales', kind='scatter', title='PS4')\n",
    "ps4.plot(x='critic_score', y='total_sales', kind='scatter', title='PS4')\n",
    "plt.show()"
   ]
  },
  {
   "cell_type": "code",
   "execution_count": 34,
   "metadata": {},
   "outputs": [
    {
     "name": "stdout",
     "output_type": "stream",
     "text": [
      "Корреляционный анализ для XBOX One\n"
     ]
    },
    {
     "data": {
      "text/html": [
       "<style  type=\"text/css\" >\n",
       "    #T_f6a48104_c550_11ea_9326_02420a398dd0row0_col0 {\n",
       "            background-color:  #67001f;\n",
       "            color:  #f1f1f1;\n",
       "        }    #T_f6a48104_c550_11ea_9326_02420a398dd0row0_col1 {\n",
       "            background-color:  #f8f2ef;\n",
       "            color:  #000000;\n",
       "        }    #T_f6a48104_c550_11ea_9326_02420a398dd0row0_col2 {\n",
       "            background-color:  #eff3f5;\n",
       "            color:  #000000;\n",
       "        }    #T_f6a48104_c550_11ea_9326_02420a398dd0row1_col0 {\n",
       "            background-color:  #185493;\n",
       "            color:  #f1f1f1;\n",
       "        }    #T_f6a48104_c550_11ea_9326_02420a398dd0row1_col1 {\n",
       "            background-color:  #67001f;\n",
       "            color:  #f1f1f1;\n",
       "        }    #T_f6a48104_c550_11ea_9326_02420a398dd0row1_col2 {\n",
       "            background-color:  #053061;\n",
       "            color:  #f1f1f1;\n",
       "        }    #T_f6a48104_c550_11ea_9326_02420a398dd0row2_col0 {\n",
       "            background-color:  #053061;\n",
       "            color:  #f1f1f1;\n",
       "        }    #T_f6a48104_c550_11ea_9326_02420a398dd0row2_col1 {\n",
       "            background-color:  #053061;\n",
       "            color:  #f1f1f1;\n",
       "        }    #T_f6a48104_c550_11ea_9326_02420a398dd0row2_col2 {\n",
       "            background-color:  #67001f;\n",
       "            color:  #f1f1f1;\n",
       "        }</style><table id=\"T_f6a48104_c550_11ea_9326_02420a398dd0\" ><thead>    <tr>        <th class=\"blank level0\" ></th>        <th class=\"col_heading level0 col0\" >critic_score</th>        <th class=\"col_heading level0 col1\" >user_score</th>        <th class=\"col_heading level0 col2\" >total_sales</th>    </tr></thead><tbody>\n",
       "                <tr>\n",
       "                        <th id=\"T_f6a48104_c550_11ea_9326_02420a398dd0level0_row0\" class=\"row_heading level0 row0\" >critic_score</th>\n",
       "                        <td id=\"T_f6a48104_c550_11ea_9326_02420a398dd0row0_col0\" class=\"data row0 col0\" >1</td>\n",
       "                        <td id=\"T_f6a48104_c550_11ea_9326_02420a398dd0row0_col1\" class=\"data row0 col1\" >0.499021</td>\n",
       "                        <td id=\"T_f6a48104_c550_11ea_9326_02420a398dd0row0_col2\" class=\"data row0 col2\" >0.462345</td>\n",
       "            </tr>\n",
       "            <tr>\n",
       "                        <th id=\"T_f6a48104_c550_11ea_9326_02420a398dd0level0_row1\" class=\"row_heading level0 row1\" >user_score</th>\n",
       "                        <td id=\"T_f6a48104_c550_11ea_9326_02420a398dd0row1_col0\" class=\"data row1 col0\" >0.499021</td>\n",
       "                        <td id=\"T_f6a48104_c550_11ea_9326_02420a398dd0row1_col1\" class=\"data row1 col1\" >1</td>\n",
       "                        <td id=\"T_f6a48104_c550_11ea_9326_02420a398dd0row1_col2\" class=\"data row1 col2\" >-0.0343622</td>\n",
       "            </tr>\n",
       "            <tr>\n",
       "                        <th id=\"T_f6a48104_c550_11ea_9326_02420a398dd0level0_row2\" class=\"row_heading level0 row2\" >total_sales</th>\n",
       "                        <td id=\"T_f6a48104_c550_11ea_9326_02420a398dd0row2_col0\" class=\"data row2 col0\" >0.462345</td>\n",
       "                        <td id=\"T_f6a48104_c550_11ea_9326_02420a398dd0row2_col1\" class=\"data row2 col1\" >-0.0343622</td>\n",
       "                        <td id=\"T_f6a48104_c550_11ea_9326_02420a398dd0row2_col2\" class=\"data row2 col2\" >1</td>\n",
       "            </tr>\n",
       "    </tbody></table>"
      ],
      "text/plain": [
       "<pandas.io.formats.style.Styler at 0x7f10ffe31510>"
      ]
     },
     "execution_count": 34,
     "metadata": {},
     "output_type": "execute_result"
    }
   ],
   "source": [
    "print('Корреляционный анализ для XBOX One')\n",
    "xbox[features].corr()\\\n",
    ".style.background_gradient(\"RdBu_r\")"
   ]
  },
  {
   "cell_type": "code",
   "execution_count": 35,
   "metadata": {},
   "outputs": [
    {
     "data": {
      "image/png": "[encoded data removed]",
      "text/plain": [
       "<Figure size 432x288 with 1 Axes>"
      ]
     },
     "metadata": {
      "needs_background": "light"
     },
     "output_type": "display_data"
    },
    {
     "data": {
      "image/png": "[encoded data removed]",
      "text/plain": [
       "<Figure size 432x288 with 1 Axes>"
      ]
     },
     "metadata": {
      "needs_background": "light"
     },
     "output_type": "display_data"
    }
   ],
   "source": [
    "xbox.plot(x='user_score', y='total_sales', kind='scatter', title='xbox one')\n",
    "xbox.plot(x='critic_score', y='total_sales', kind='scatter', title='xbox one')\n",
    "plt.show()"
   ]
  },
  {
   "cell_type": "markdown",
   "metadata": {},
   "source": [
    "Вывод:\n",
    "- Линейная зависимость между объемом продаж и оценкой критиков есть для обеих платформ, однако она отсуствует для рейтингов пользователей\n",
    "- При этом есть есть не сильная взаимосвязь между отзывами пользователей и оценкой критиков"
   ]
  },
  {
   "cell_type": "markdown",
   "metadata": {},
   "source": [
    "### - Соотнесите выводы с продажами игр на других платформах.\n"
   ]
  },
  {
   "cell_type": "code",
   "execution_count": 52,
   "metadata": {},
   "outputs": [],
   "source": [
    "from IPython.display import display"
   ]
  },
  {
   "cell_type": "code",
   "execution_count": 53,
   "metadata": {},
   "outputs": [],
   "source": [
    "features = ['critic_score','user_score','total_sales']\n",
    "\n",
    "def conclude_other (data, list_of_platform, features):\n",
    "    \n",
    "    '''\n",
    "    Построение матрицы корреляции по указанном датасету, списку платформ и признакам продажи по платформе по годам\n",
    "    '''   \n",
    "    \n",
    "    for platform in list(list_of_platform):\n",
    "        data_1 = data.query(\"platform == @platform\")\n",
    "        print('Корреляционный анализ для',platform)\n",
    "        display(data_1[features].corr()\\\n",
    "        .style.background_gradient(\"RdBu_r\"))\n",
    "        print()"
   ]
  },
  {
   "cell_type": "markdown",
   "metadata": {},
   "source": [
    "<div class=\"alert alert-warning\">\n",
    "<h2> Комментарий ревьюера</h2>\n",
    "\n",
    "Заработало :)\n",
    "    \n",
    "---\n",
    "    \n",
    "Проблема была в функции `print()`,  которая не выводила красивую таблицу. Рекомендую в не применять его для вывода таблиц.\n",
    "    \n",
    "Лучше импортировать вначале проекта метод `display` из библиотеки `IPython.display` и применять его:\n",
    "\n",
    "---\n",
    "    \n",
    "`from IPython.display import display`\n",
    "\n",
    "`display(df)`\n",
    "    \n",
    "---\n",
    "    \n",
    "P.s. Добавил методы выше.\n",
    "\n",
    "    \n",
    "</div>"
   ]
  },
  {
   "cell_type": "code",
   "execution_count": 54,
   "metadata": {},
   "outputs": [
    {
     "name": "stdout",
     "output_type": "stream",
     "text": [
      "Корреляционный анализ для PS3\n"
     ]
    },
    {
     "data": {
      "text/html": [
       "<style  type=\"text/css\" >\n",
       "    #T_6eb01df0_c553_11ea_9326_02420a398dd0row0_col0 {\n",
       "            background-color:  #67001f;\n",
       "            color:  #f1f1f1;\n",
       "        }    #T_6eb01df0_c553_11ea_9326_02420a398dd0row0_col1 {\n",
       "            background-color:  #fbe6da;\n",
       "            color:  #000000;\n",
       "        }    #T_6eb01df0_c553_11ea_9326_02420a398dd0row0_col2 {\n",
       "            background-color:  #c5dfec;\n",
       "            color:  #000000;\n",
       "        }    #T_6eb01df0_c553_11ea_9326_02420a398dd0row1_col0 {\n",
       "            background-color:  #8ac0db;\n",
       "            color:  #000000;\n",
       "        }    #T_6eb01df0_c553_11ea_9326_02420a398dd0row1_col1 {\n",
       "            background-color:  #67001f;\n",
       "            color:  #f1f1f1;\n",
       "        }    #T_6eb01df0_c553_11ea_9326_02420a398dd0row1_col2 {\n",
       "            background-color:  #053061;\n",
       "            color:  #f1f1f1;\n",
       "        }    #T_6eb01df0_c553_11ea_9326_02420a398dd0row2_col0 {\n",
       "            background-color:  #053061;\n",
       "            color:  #f1f1f1;\n",
       "        }    #T_6eb01df0_c553_11ea_9326_02420a398dd0row2_col1 {\n",
       "            background-color:  #053061;\n",
       "            color:  #f1f1f1;\n",
       "        }    #T_6eb01df0_c553_11ea_9326_02420a398dd0row2_col2 {\n",
       "            background-color:  #67001f;\n",
       "            color:  #f1f1f1;\n",
       "        }</style><table id=\"T_6eb01df0_c553_11ea_9326_02420a398dd0\" ><thead>    <tr>        <th class=\"blank level0\" ></th>        <th class=\"col_heading level0 col0\" >critic_score</th>        <th class=\"col_heading level0 col1\" >user_score</th>        <th class=\"col_heading level0 col2\" >total_sales</th>    </tr></thead><tbody>\n",
       "                <tr>\n",
       "                        <th id=\"T_6eb01df0_c553_11ea_9326_02420a398dd0level0_row0\" class=\"row_heading level0 row0\" >critic_score</th>\n",
       "                        <td id=\"T_6eb01df0_c553_11ea_9326_02420a398dd0row0_col0\" class=\"data row0 col0\" >1</td>\n",
       "                        <td id=\"T_6eb01df0_c553_11ea_9326_02420a398dd0row0_col1\" class=\"data row0 col1\" >0.562589</td>\n",
       "                        <td id=\"T_6eb01df0_c553_11ea_9326_02420a398dd0row0_col2\" class=\"data row0 col2\" >0.383009</td>\n",
       "            </tr>\n",
       "            <tr>\n",
       "                        <th id=\"T_6eb01df0_c553_11ea_9326_02420a398dd0level0_row1\" class=\"row_heading level0 row1\" >user_score</th>\n",
       "                        <td id=\"T_6eb01df0_c553_11ea_9326_02420a398dd0row1_col0\" class=\"data row1 col0\" >0.562589</td>\n",
       "                        <td id=\"T_6eb01df0_c553_11ea_9326_02420a398dd0row1_col1\" class=\"data row1 col1\" >1</td>\n",
       "                        <td id=\"T_6eb01df0_c553_11ea_9326_02420a398dd0row1_col2\" class=\"data row1 col2\" >0.00423461</td>\n",
       "            </tr>\n",
       "            <tr>\n",
       "                        <th id=\"T_6eb01df0_c553_11ea_9326_02420a398dd0level0_row2\" class=\"row_heading level0 row2\" >total_sales</th>\n",
       "                        <td id=\"T_6eb01df0_c553_11ea_9326_02420a398dd0row2_col0\" class=\"data row2 col0\" >0.383009</td>\n",
       "                        <td id=\"T_6eb01df0_c553_11ea_9326_02420a398dd0row2_col1\" class=\"data row2 col1\" >0.00423461</td>\n",
       "                        <td id=\"T_6eb01df0_c553_11ea_9326_02420a398dd0row2_col2\" class=\"data row2 col2\" >1</td>\n",
       "            </tr>\n",
       "    </tbody></table>"
      ],
      "text/plain": [
       "<pandas.io.formats.style.Styler at 0x7f1100072a10>"
      ]
     },
     "metadata": {},
     "output_type": "display_data"
    },
    {
     "name": "stdout",
     "output_type": "stream",
     "text": [
      "\n",
      "Корреляционный анализ для X360\n"
     ]
    },
    {
     "data": {
      "text/html": [
       "<style  type=\"text/css\" >\n",
       "    #T_6eb36320_c553_11ea_9326_02420a398dd0row0_col0 {\n",
       "            background-color:  #67001f;\n",
       "            color:  #f1f1f1;\n",
       "        }    #T_6eb36320_c553_11ea_9326_02420a398dd0row0_col1 {\n",
       "            background-color:  #fae7dc;\n",
       "            color:  #000000;\n",
       "        }    #T_6eb36320_c553_11ea_9326_02420a398dd0row0_col2 {\n",
       "            background-color:  #c0dceb;\n",
       "            color:  #000000;\n",
       "        }    #T_6eb36320_c553_11ea_9326_02420a398dd0row1_col0 {\n",
       "            background-color:  #8ac0db;\n",
       "            color:  #000000;\n",
       "        }    #T_6eb36320_c553_11ea_9326_02420a398dd0row1_col1 {\n",
       "            background-color:  #67001f;\n",
       "            color:  #f1f1f1;\n",
       "        }    #T_6eb36320_c553_11ea_9326_02420a398dd0row1_col2 {\n",
       "            background-color:  #053061;\n",
       "            color:  #f1f1f1;\n",
       "        }    #T_6eb36320_c553_11ea_9326_02420a398dd0row2_col0 {\n",
       "            background-color:  #053061;\n",
       "            color:  #f1f1f1;\n",
       "        }    #T_6eb36320_c553_11ea_9326_02420a398dd0row2_col1 {\n",
       "            background-color:  #053061;\n",
       "            color:  #f1f1f1;\n",
       "        }    #T_6eb36320_c553_11ea_9326_02420a398dd0row2_col2 {\n",
       "            background-color:  #67001f;\n",
       "            color:  #f1f1f1;\n",
       "        }</style><table id=\"T_6eb36320_c553_11ea_9326_02420a398dd0\" ><thead>    <tr>        <th class=\"blank level0\" ></th>        <th class=\"col_heading level0 col0\" >critic_score</th>        <th class=\"col_heading level0 col1\" >user_score</th>        <th class=\"col_heading level0 col2\" >total_sales</th>    </tr></thead><tbody>\n",
       "                <tr>\n",
       "                        <th id=\"T_6eb36320_c553_11ea_9326_02420a398dd0level0_row0\" class=\"row_heading level0 row0\" >critic_score</th>\n",
       "                        <td id=\"T_6eb36320_c553_11ea_9326_02420a398dd0row0_col0\" class=\"data row0 col0\" >1</td>\n",
       "                        <td id=\"T_6eb36320_c553_11ea_9326_02420a398dd0row0_col1\" class=\"data row0 col1\" >0.56829</td>\n",
       "                        <td id=\"T_6eb36320_c553_11ea_9326_02420a398dd0row0_col2\" class=\"data row0 col2\" >0.389736</td>\n",
       "            </tr>\n",
       "            <tr>\n",
       "                        <th id=\"T_6eb36320_c553_11ea_9326_02420a398dd0level0_row1\" class=\"row_heading level0 row1\" >user_score</th>\n",
       "                        <td id=\"T_6eb36320_c553_11ea_9326_02420a398dd0row1_col0\" class=\"data row1 col0\" >0.56829</td>\n",
       "                        <td id=\"T_6eb36320_c553_11ea_9326_02420a398dd0row1_col1\" class=\"data row1 col1\" >1</td>\n",
       "                        <td id=\"T_6eb36320_c553_11ea_9326_02420a398dd0row1_col2\" class=\"data row1 col2\" >0.0281066</td>\n",
       "            </tr>\n",
       "            <tr>\n",
       "                        <th id=\"T_6eb36320_c553_11ea_9326_02420a398dd0level0_row2\" class=\"row_heading level0 row2\" >total_sales</th>\n",
       "                        <td id=\"T_6eb36320_c553_11ea_9326_02420a398dd0row2_col0\" class=\"data row2 col0\" >0.389736</td>\n",
       "                        <td id=\"T_6eb36320_c553_11ea_9326_02420a398dd0row2_col1\" class=\"data row2 col1\" >0.0281066</td>\n",
       "                        <td id=\"T_6eb36320_c553_11ea_9326_02420a398dd0row2_col2\" class=\"data row2 col2\" >1</td>\n",
       "            </tr>\n",
       "    </tbody></table>"
      ],
      "text/plain": [
       "<pandas.io.formats.style.Styler at 0x7f10ffba3a90>"
      ]
     },
     "metadata": {},
     "output_type": "display_data"
    },
    {
     "name": "stdout",
     "output_type": "stream",
     "text": [
      "\n",
      "Корреляционный анализ для PS4\n"
     ]
    },
    {
     "data": {
      "text/html": [
       "<style  type=\"text/css\" >\n",
       "    #T_6eb6900e_c553_11ea_9326_02420a398dd0row0_col0 {\n",
       "            background-color:  #67001f;\n",
       "            color:  #f1f1f1;\n",
       "        }    #T_6eb6900e_c553_11ea_9326_02420a398dd0row0_col1 {\n",
       "            background-color:  #fddbc7;\n",
       "            color:  #000000;\n",
       "        }    #T_6eb6900e_c553_11ea_9326_02420a398dd0row0_col2 {\n",
       "            background-color:  #d8e9f1;\n",
       "            color:  #000000;\n",
       "        }    #T_6eb6900e_c553_11ea_9326_02420a398dd0row1_col0 {\n",
       "            background-color:  #98c8e0;\n",
       "            color:  #000000;\n",
       "        }    #T_6eb6900e_c553_11ea_9326_02420a398dd0row1_col1 {\n",
       "            background-color:  #67001f;\n",
       "            color:  #f1f1f1;\n",
       "        }    #T_6eb6900e_c553_11ea_9326_02420a398dd0row1_col2 {\n",
       "            background-color:  #053061;\n",
       "            color:  #f1f1f1;\n",
       "        }    #T_6eb6900e_c553_11ea_9326_02420a398dd0row2_col0 {\n",
       "            background-color:  #053061;\n",
       "            color:  #f1f1f1;\n",
       "        }    #T_6eb6900e_c553_11ea_9326_02420a398dd0row2_col1 {\n",
       "            background-color:  #053061;\n",
       "            color:  #f1f1f1;\n",
       "        }    #T_6eb6900e_c553_11ea_9326_02420a398dd0row2_col2 {\n",
       "            background-color:  #67001f;\n",
       "            color:  #f1f1f1;\n",
       "        }</style><table id=\"T_6eb6900e_c553_11ea_9326_02420a398dd0\" ><thead>    <tr>        <th class=\"blank level0\" ></th>        <th class=\"col_heading level0 col0\" >critic_score</th>        <th class=\"col_heading level0 col1\" >user_score</th>        <th class=\"col_heading level0 col2\" >total_sales</th>    </tr></thead><tbody>\n",
       "                <tr>\n",
       "                        <th id=\"T_6eb6900e_c553_11ea_9326_02420a398dd0level0_row0\" class=\"row_heading level0 row0\" >critic_score</th>\n",
       "                        <td id=\"T_6eb6900e_c553_11ea_9326_02420a398dd0row0_col0\" class=\"data row0 col0\" >1</td>\n",
       "                        <td id=\"T_6eb6900e_c553_11ea_9326_02420a398dd0row0_col1\" class=\"data row0 col1\" >0.608915</td>\n",
       "                        <td id=\"T_6eb6900e_c553_11ea_9326_02420a398dd0row0_col2\" class=\"data row0 col2\" >0.432537</td>\n",
       "            </tr>\n",
       "            <tr>\n",
       "                        <th id=\"T_6eb6900e_c553_11ea_9326_02420a398dd0level0_row1\" class=\"row_heading level0 row1\" >user_score</th>\n",
       "                        <td id=\"T_6eb6900e_c553_11ea_9326_02420a398dd0row1_col0\" class=\"data row1 col0\" >0.608915</td>\n",
       "                        <td id=\"T_6eb6900e_c553_11ea_9326_02420a398dd0row1_col1\" class=\"data row1 col1\" >1</td>\n",
       "                        <td id=\"T_6eb6900e_c553_11ea_9326_02420a398dd0row1_col2\" class=\"data row1 col2\" >0.0192199</td>\n",
       "            </tr>\n",
       "            <tr>\n",
       "                        <th id=\"T_6eb6900e_c553_11ea_9326_02420a398dd0level0_row2\" class=\"row_heading level0 row2\" >total_sales</th>\n",
       "                        <td id=\"T_6eb6900e_c553_11ea_9326_02420a398dd0row2_col0\" class=\"data row2 col0\" >0.432537</td>\n",
       "                        <td id=\"T_6eb6900e_c553_11ea_9326_02420a398dd0row2_col1\" class=\"data row2 col1\" >0.0192199</td>\n",
       "                        <td id=\"T_6eb6900e_c553_11ea_9326_02420a398dd0row2_col2\" class=\"data row2 col2\" >1</td>\n",
       "            </tr>\n",
       "    </tbody></table>"
      ],
      "text/plain": [
       "<pandas.io.formats.style.Styler at 0x7f10ffba3d90>"
      ]
     },
     "metadata": {},
     "output_type": "display_data"
    },
    {
     "name": "stdout",
     "output_type": "stream",
     "text": [
      "\n",
      "Корреляционный анализ для 3DS\n"
     ]
    },
    {
     "data": {
      "text/html": [
       "<style  type=\"text/css\" >\n",
       "    #T_6eb9deee_c553_11ea_9326_02420a398dd0row0_col0 {\n",
       "            background-color:  #67001f;\n",
       "            color:  #f1f1f1;\n",
       "        }    #T_6eb9deee_c553_11ea_9326_02420a398dd0row0_col1 {\n",
       "            background-color:  #f7b99c;\n",
       "            color:  #000000;\n",
       "        }    #T_6eb9deee_c553_11ea_9326_02420a398dd0row0_col2 {\n",
       "            background-color:  #3480b9;\n",
       "            color:  #000000;\n",
       "        }    #T_6eb9deee_c553_11ea_9326_02420a398dd0row1_col0 {\n",
       "            background-color:  #fddbc7;\n",
       "            color:  #000000;\n",
       "        }    #T_6eb9deee_c553_11ea_9326_02420a398dd0row1_col1 {\n",
       "            background-color:  #67001f;\n",
       "            color:  #f1f1f1;\n",
       "        }    #T_6eb9deee_c553_11ea_9326_02420a398dd0row1_col2 {\n",
       "            background-color:  #053061;\n",
       "            color:  #f1f1f1;\n",
       "        }    #T_6eb9deee_c553_11ea_9326_02420a398dd0row2_col0 {\n",
       "            background-color:  #053061;\n",
       "            color:  #f1f1f1;\n",
       "        }    #T_6eb9deee_c553_11ea_9326_02420a398dd0row2_col1 {\n",
       "            background-color:  #053061;\n",
       "            color:  #f1f1f1;\n",
       "        }    #T_6eb9deee_c553_11ea_9326_02420a398dd0row2_col2 {\n",
       "            background-color:  #67001f;\n",
       "            color:  #f1f1f1;\n",
       "        }</style><table id=\"T_6eb9deee_c553_11ea_9326_02420a398dd0\" ><thead>    <tr>        <th class=\"blank level0\" ></th>        <th class=\"col_heading level0 col0\" >critic_score</th>        <th class=\"col_heading level0 col1\" >user_score</th>        <th class=\"col_heading level0 col2\" >total_sales</th>    </tr></thead><tbody>\n",
       "                <tr>\n",
       "                        <th id=\"T_6eb9deee_c553_11ea_9326_02420a398dd0level0_row0\" class=\"row_heading level0 row0\" >critic_score</th>\n",
       "                        <td id=\"T_6eb9deee_c553_11ea_9326_02420a398dd0row0_col0\" class=\"data row0 col0\" >1</td>\n",
       "                        <td id=\"T_6eb9deee_c553_11ea_9326_02420a398dd0row0_col1\" class=\"data row0 col1\" >0.744259</td>\n",
       "                        <td id=\"T_6eb9deee_c553_11ea_9326_02420a398dd0row0_col2\" class=\"data row0 col2\" >0.360314</td>\n",
       "            </tr>\n",
       "            <tr>\n",
       "                        <th id=\"T_6eb9deee_c553_11ea_9326_02420a398dd0level0_row1\" class=\"row_heading level0 row1\" >user_score</th>\n",
       "                        <td id=\"T_6eb9deee_c553_11ea_9326_02420a398dd0row1_col0\" class=\"data row1 col0\" >0.744259</td>\n",
       "                        <td id=\"T_6eb9deee_c553_11ea_9326_02420a398dd0row1_col1\" class=\"data row1 col1\" >1</td>\n",
       "                        <td id=\"T_6eb9deee_c553_11ea_9326_02420a398dd0row1_col2\" class=\"data row1 col2\" >0.240305</td>\n",
       "            </tr>\n",
       "            <tr>\n",
       "                        <th id=\"T_6eb9deee_c553_11ea_9326_02420a398dd0level0_row2\" class=\"row_heading level0 row2\" >total_sales</th>\n",
       "                        <td id=\"T_6eb9deee_c553_11ea_9326_02420a398dd0row2_col0\" class=\"data row2 col0\" >0.360314</td>\n",
       "                        <td id=\"T_6eb9deee_c553_11ea_9326_02420a398dd0row2_col1\" class=\"data row2 col1\" >0.240305</td>\n",
       "                        <td id=\"T_6eb9deee_c553_11ea_9326_02420a398dd0row2_col2\" class=\"data row2 col2\" >1</td>\n",
       "            </tr>\n",
       "    </tbody></table>"
      ],
      "text/plain": [
       "<pandas.io.formats.style.Styler at 0x7f10fffa2490>"
      ]
     },
     "metadata": {},
     "output_type": "display_data"
    },
    {
     "name": "stdout",
     "output_type": "stream",
     "text": [
      "\n",
      "Корреляционный анализ для XOne\n"
     ]
    },
    {
     "data": {
      "text/html": [
       "<style  type=\"text/css\" >\n",
       "    #T_6ec11998_c553_11ea_9326_02420a398dd0row0_col0 {\n",
       "            background-color:  #67001f;\n",
       "            color:  #f1f1f1;\n",
       "        }    #T_6ec11998_c553_11ea_9326_02420a398dd0row0_col1 {\n",
       "            background-color:  #f8f2ef;\n",
       "            color:  #000000;\n",
       "        }    #T_6ec11998_c553_11ea_9326_02420a398dd0row0_col2 {\n",
       "            background-color:  #eff3f5;\n",
       "            color:  #000000;\n",
       "        }    #T_6ec11998_c553_11ea_9326_02420a398dd0row1_col0 {\n",
       "            background-color:  #185493;\n",
       "            color:  #f1f1f1;\n",
       "        }    #T_6ec11998_c553_11ea_9326_02420a398dd0row1_col1 {\n",
       "            background-color:  #67001f;\n",
       "            color:  #f1f1f1;\n",
       "        }    #T_6ec11998_c553_11ea_9326_02420a398dd0row1_col2 {\n",
       "            background-color:  #053061;\n",
       "            color:  #f1f1f1;\n",
       "        }    #T_6ec11998_c553_11ea_9326_02420a398dd0row2_col0 {\n",
       "            background-color:  #053061;\n",
       "            color:  #f1f1f1;\n",
       "        }    #T_6ec11998_c553_11ea_9326_02420a398dd0row2_col1 {\n",
       "            background-color:  #053061;\n",
       "            color:  #f1f1f1;\n",
       "        }    #T_6ec11998_c553_11ea_9326_02420a398dd0row2_col2 {\n",
       "            background-color:  #67001f;\n",
       "            color:  #f1f1f1;\n",
       "        }</style><table id=\"T_6ec11998_c553_11ea_9326_02420a398dd0\" ><thead>    <tr>        <th class=\"blank level0\" ></th>        <th class=\"col_heading level0 col0\" >critic_score</th>        <th class=\"col_heading level0 col1\" >user_score</th>        <th class=\"col_heading level0 col2\" >total_sales</th>    </tr></thead><tbody>\n",
       "                <tr>\n",
       "                        <th id=\"T_6ec11998_c553_11ea_9326_02420a398dd0level0_row0\" class=\"row_heading level0 row0\" >critic_score</th>\n",
       "                        <td id=\"T_6ec11998_c553_11ea_9326_02420a398dd0row0_col0\" class=\"data row0 col0\" >1</td>\n",
       "                        <td id=\"T_6ec11998_c553_11ea_9326_02420a398dd0row0_col1\" class=\"data row0 col1\" >0.499021</td>\n",
       "                        <td id=\"T_6ec11998_c553_11ea_9326_02420a398dd0row0_col2\" class=\"data row0 col2\" >0.462345</td>\n",
       "            </tr>\n",
       "            <tr>\n",
       "                        <th id=\"T_6ec11998_c553_11ea_9326_02420a398dd0level0_row1\" class=\"row_heading level0 row1\" >user_score</th>\n",
       "                        <td id=\"T_6ec11998_c553_11ea_9326_02420a398dd0row1_col0\" class=\"data row1 col0\" >0.499021</td>\n",
       "                        <td id=\"T_6ec11998_c553_11ea_9326_02420a398dd0row1_col1\" class=\"data row1 col1\" >1</td>\n",
       "                        <td id=\"T_6ec11998_c553_11ea_9326_02420a398dd0row1_col2\" class=\"data row1 col2\" >-0.0343622</td>\n",
       "            </tr>\n",
       "            <tr>\n",
       "                        <th id=\"T_6ec11998_c553_11ea_9326_02420a398dd0level0_row2\" class=\"row_heading level0 row2\" >total_sales</th>\n",
       "                        <td id=\"T_6ec11998_c553_11ea_9326_02420a398dd0row2_col0\" class=\"data row2 col0\" >0.462345</td>\n",
       "                        <td id=\"T_6ec11998_c553_11ea_9326_02420a398dd0row2_col1\" class=\"data row2 col1\" >-0.0343622</td>\n",
       "                        <td id=\"T_6ec11998_c553_11ea_9326_02420a398dd0row2_col2\" class=\"data row2 col2\" >1</td>\n",
       "            </tr>\n",
       "    </tbody></table>"
      ],
      "text/plain": [
       "<pandas.io.formats.style.Styler at 0x7f10ffb7b250>"
      ]
     },
     "metadata": {},
     "output_type": "display_data"
    },
    {
     "name": "stdout",
     "output_type": "stream",
     "text": [
      "\n",
      "Корреляционный анализ для Wii\n"
     ]
    },
    {
     "data": {
      "text/html": [
       "<style  type=\"text/css\" >\n",
       "    #T_6ec448f2_c553_11ea_9326_02420a398dd0row0_col0 {\n",
       "            background-color:  #67001f;\n",
       "            color:  #f1f1f1;\n",
       "        }    #T_6ec448f2_c553_11ea_9326_02420a398dd0row0_col1 {\n",
       "            background-color:  #acd2e5;\n",
       "            color:  #000000;\n",
       "        }    #T_6ec448f2_c553_11ea_9326_02420a398dd0row0_col2 {\n",
       "            background-color:  #3783bb;\n",
       "            color:  #000000;\n",
       "        }    #T_6ec448f2_c553_11ea_9326_02420a398dd0row1_col0 {\n",
       "            background-color:  #4997c5;\n",
       "            color:  #000000;\n",
       "        }    #T_6ec448f2_c553_11ea_9326_02420a398dd0row1_col1 {\n",
       "            background-color:  #67001f;\n",
       "            color:  #f1f1f1;\n",
       "        }    #T_6ec448f2_c553_11ea_9326_02420a398dd0row1_col2 {\n",
       "            background-color:  #053061;\n",
       "            color:  #f1f1f1;\n",
       "        }    #T_6ec448f2_c553_11ea_9326_02420a398dd0row2_col0 {\n",
       "            background-color:  #053061;\n",
       "            color:  #f1f1f1;\n",
       "        }    #T_6ec448f2_c553_11ea_9326_02420a398dd0row2_col1 {\n",
       "            background-color:  #053061;\n",
       "            color:  #f1f1f1;\n",
       "        }    #T_6ec448f2_c553_11ea_9326_02420a398dd0row2_col2 {\n",
       "            background-color:  #67001f;\n",
       "            color:  #f1f1f1;\n",
       "        }</style><table id=\"T_6ec448f2_c553_11ea_9326_02420a398dd0\" ><thead>    <tr>        <th class=\"blank level0\" ></th>        <th class=\"col_heading level0 col0\" >critic_score</th>        <th class=\"col_heading level0 col1\" >user_score</th>        <th class=\"col_heading level0 col2\" >total_sales</th>    </tr></thead><tbody>\n",
       "                <tr>\n",
       "                        <th id=\"T_6ec448f2_c553_11ea_9326_02420a398dd0level0_row0\" class=\"row_heading level0 row0\" >critic_score</th>\n",
       "                        <td id=\"T_6ec448f2_c553_11ea_9326_02420a398dd0row0_col0\" class=\"data row0 col0\" >1</td>\n",
       "                        <td id=\"T_6ec448f2_c553_11ea_9326_02420a398dd0row0_col1\" class=\"data row0 col1\" >0.465967</td>\n",
       "                        <td id=\"T_6ec448f2_c553_11ea_9326_02420a398dd0row0_col2\" class=\"data row0 col2\" >0.323873</td>\n",
       "            </tr>\n",
       "            <tr>\n",
       "                        <th id=\"T_6ec448f2_c553_11ea_9326_02420a398dd0level0_row1\" class=\"row_heading level0 row1\" >user_score</th>\n",
       "                        <td id=\"T_6ec448f2_c553_11ea_9326_02420a398dd0row1_col0\" class=\"data row1 col0\" >0.465967</td>\n",
       "                        <td id=\"T_6ec448f2_c553_11ea_9326_02420a398dd0row1_col1\" class=\"data row1 col1\" >1</td>\n",
       "                        <td id=\"T_6ec448f2_c553_11ea_9326_02420a398dd0row1_col2\" class=\"data row1 col2\" >0.190432</td>\n",
       "            </tr>\n",
       "            <tr>\n",
       "                        <th id=\"T_6ec448f2_c553_11ea_9326_02420a398dd0level0_row2\" class=\"row_heading level0 row2\" >total_sales</th>\n",
       "                        <td id=\"T_6ec448f2_c553_11ea_9326_02420a398dd0row2_col0\" class=\"data row2 col0\" >0.323873</td>\n",
       "                        <td id=\"T_6ec448f2_c553_11ea_9326_02420a398dd0row2_col1\" class=\"data row2 col1\" >0.190432</td>\n",
       "                        <td id=\"T_6ec448f2_c553_11ea_9326_02420a398dd0row2_col2\" class=\"data row2 col2\" >1</td>\n",
       "            </tr>\n",
       "    </tbody></table>"
      ],
      "text/plain": [
       "<pandas.io.formats.style.Styler at 0x7f10ffb6da50>"
      ]
     },
     "metadata": {},
     "output_type": "display_data"
    },
    {
     "name": "stdout",
     "output_type": "stream",
     "text": [
      "\n",
      "Корреляционный анализ для PC\n"
     ]
    },
    {
     "data": {
      "text/html": [
       "<style  type=\"text/css\" >\n",
       "    #T_6ec76064_c553_11ea_9326_02420a398dd0row0_col0 {\n",
       "            background-color:  #67001f;\n",
       "            color:  #f1f1f1;\n",
       "        }    #T_6ec76064_c553_11ea_9326_02420a398dd0row0_col1 {\n",
       "            background-color:  #f7f6f6;\n",
       "            color:  #000000;\n",
       "        }    #T_6ec76064_c553_11ea_9326_02420a398dd0row0_col2 {\n",
       "            background-color:  #c7e0ed;\n",
       "            color:  #000000;\n",
       "        }    #T_6ec76064_c553_11ea_9326_02420a398dd0row1_col0 {\n",
       "            background-color:  #3f8ec0;\n",
       "            color:  #000000;\n",
       "        }    #T_6ec76064_c553_11ea_9326_02420a398dd0row1_col1 {\n",
       "            background-color:  #67001f;\n",
       "            color:  #f1f1f1;\n",
       "        }    #T_6ec76064_c553_11ea_9326_02420a398dd0row1_col2 {\n",
       "            background-color:  #053061;\n",
       "            color:  #f1f1f1;\n",
       "        }    #T_6ec76064_c553_11ea_9326_02420a398dd0row2_col0 {\n",
       "            background-color:  #053061;\n",
       "            color:  #f1f1f1;\n",
       "        }    #T_6ec76064_c553_11ea_9326_02420a398dd0row2_col1 {\n",
       "            background-color:  #053061;\n",
       "            color:  #f1f1f1;\n",
       "        }    #T_6ec76064_c553_11ea_9326_02420a398dd0row2_col2 {\n",
       "            background-color:  #67001f;\n",
       "            color:  #f1f1f1;\n",
       "        }</style><table id=\"T_6ec76064_c553_11ea_9326_02420a398dd0\" ><thead>    <tr>        <th class=\"blank level0\" ></th>        <th class=\"col_heading level0 col0\" >critic_score</th>        <th class=\"col_heading level0 col1\" >user_score</th>        <th class=\"col_heading level0 col2\" >total_sales</th>    </tr></thead><tbody>\n",
       "                <tr>\n",
       "                        <th id=\"T_6ec76064_c553_11ea_9326_02420a398dd0level0_row0\" class=\"row_heading level0 row0\" >critic_score</th>\n",
       "                        <td id=\"T_6ec76064_c553_11ea_9326_02420a398dd0row0_col0\" class=\"data row0 col0\" >1</td>\n",
       "                        <td id=\"T_6ec76064_c553_11ea_9326_02420a398dd0row0_col1\" class=\"data row0 col1\" >0.468382</td>\n",
       "                        <td id=\"T_6ec76064_c553_11ea_9326_02420a398dd0row0_col2\" class=\"data row0 col2\" >0.342601</td>\n",
       "            </tr>\n",
       "            <tr>\n",
       "                        <th id=\"T_6ec76064_c553_11ea_9326_02420a398dd0level0_row1\" class=\"row_heading level0 row1\" >user_score</th>\n",
       "                        <td id=\"T_6ec76064_c553_11ea_9326_02420a398dd0row1_col0\" class=\"data row1 col0\" >0.468382</td>\n",
       "                        <td id=\"T_6ec76064_c553_11ea_9326_02420a398dd0row1_col1\" class=\"data row1 col1\" >1</td>\n",
       "                        <td id=\"T_6ec76064_c553_11ea_9326_02420a398dd0row1_col2\" class=\"data row1 col2\" >-0.0682893</td>\n",
       "            </tr>\n",
       "            <tr>\n",
       "                        <th id=\"T_6ec76064_c553_11ea_9326_02420a398dd0level0_row2\" class=\"row_heading level0 row2\" >total_sales</th>\n",
       "                        <td id=\"T_6ec76064_c553_11ea_9326_02420a398dd0row2_col0\" class=\"data row2 col0\" >0.342601</td>\n",
       "                        <td id=\"T_6ec76064_c553_11ea_9326_02420a398dd0row2_col1\" class=\"data row2 col1\" >-0.0682893</td>\n",
       "                        <td id=\"T_6ec76064_c553_11ea_9326_02420a398dd0row2_col2\" class=\"data row2 col2\" >1</td>\n",
       "            </tr>\n",
       "    </tbody></table>"
      ],
      "text/plain": [
       "<pandas.io.formats.style.Styler at 0x7f1100025fd0>"
      ]
     },
     "metadata": {},
     "output_type": "display_data"
    },
    {
     "name": "stdout",
     "output_type": "stream",
     "text": [
      "\n",
      "Корреляционный анализ для WiiU\n"
     ]
    },
    {
     "data": {
      "text/html": [
       "<style  type=\"text/css\" >\n",
       "    #T_6ecae996_c553_11ea_9326_02420a398dd0row0_col0 {\n",
       "            background-color:  #67001f;\n",
       "            color:  #f1f1f1;\n",
       "        }    #T_6ecae996_c553_11ea_9326_02420a398dd0row0_col1 {\n",
       "            background-color:  #fdddcb;\n",
       "            color:  #000000;\n",
       "        }    #T_6ecae996_c553_11ea_9326_02420a398dd0row0_col2 {\n",
       "            background-color:  #053061;\n",
       "            color:  #f1f1f1;\n",
       "        }    #T_6ecae996_c553_11ea_9326_02420a398dd0row1_col0 {\n",
       "            background-color:  #facab1;\n",
       "            color:  #000000;\n",
       "        }    #T_6ecae996_c553_11ea_9326_02420a398dd0row1_col1 {\n",
       "            background-color:  #67001f;\n",
       "            color:  #f1f1f1;\n",
       "        }    #T_6ecae996_c553_11ea_9326_02420a398dd0row1_col2 {\n",
       "            background-color:  #1d5fa2;\n",
       "            color:  #f1f1f1;\n",
       "        }    #T_6ecae996_c553_11ea_9326_02420a398dd0row2_col0 {\n",
       "            background-color:  #053061;\n",
       "            color:  #f1f1f1;\n",
       "        }    #T_6ecae996_c553_11ea_9326_02420a398dd0row2_col1 {\n",
       "            background-color:  #053061;\n",
       "            color:  #f1f1f1;\n",
       "        }    #T_6ecae996_c553_11ea_9326_02420a398dd0row2_col2 {\n",
       "            background-color:  #67001f;\n",
       "            color:  #f1f1f1;\n",
       "        }</style><table id=\"T_6ecae996_c553_11ea_9326_02420a398dd0\" ><thead>    <tr>        <th class=\"blank level0\" ></th>        <th class=\"col_heading level0 col0\" >critic_score</th>        <th class=\"col_heading level0 col1\" >user_score</th>        <th class=\"col_heading level0 col2\" >total_sales</th>    </tr></thead><tbody>\n",
       "                <tr>\n",
       "                        <th id=\"T_6ecae996_c553_11ea_9326_02420a398dd0level0_row0\" class=\"row_heading level0 row0\" >critic_score</th>\n",
       "                        <td id=\"T_6ecae996_c553_11ea_9326_02420a398dd0row0_col0\" class=\"data row0 col0\" >1</td>\n",
       "                        <td id=\"T_6ecae996_c553_11ea_9326_02420a398dd0row0_col1\" class=\"data row0 col1\" >0.760811</td>\n",
       "                        <td id=\"T_6ecae996_c553_11ea_9326_02420a398dd0row0_col2\" class=\"data row0 col2\" >0.354691</td>\n",
       "            </tr>\n",
       "            <tr>\n",
       "                        <th id=\"T_6ecae996_c553_11ea_9326_02420a398dd0level0_row1\" class=\"row_heading level0 row1\" >user_score</th>\n",
       "                        <td id=\"T_6ecae996_c553_11ea_9326_02420a398dd0row1_col0\" class=\"data row1 col0\" >0.760811</td>\n",
       "                        <td id=\"T_6ecae996_c553_11ea_9326_02420a398dd0row1_col1\" class=\"data row1 col1\" >1</td>\n",
       "                        <td id=\"T_6ecae996_c553_11ea_9326_02420a398dd0row1_col2\" class=\"data row1 col2\" >0.412432</td>\n",
       "            </tr>\n",
       "            <tr>\n",
       "                        <th id=\"T_6ecae996_c553_11ea_9326_02420a398dd0level0_row2\" class=\"row_heading level0 row2\" >total_sales</th>\n",
       "                        <td id=\"T_6ecae996_c553_11ea_9326_02420a398dd0row2_col0\" class=\"data row2 col0\" >0.354691</td>\n",
       "                        <td id=\"T_6ecae996_c553_11ea_9326_02420a398dd0row2_col1\" class=\"data row2 col1\" >0.412432</td>\n",
       "                        <td id=\"T_6ecae996_c553_11ea_9326_02420a398dd0row2_col2\" class=\"data row2 col2\" >1</td>\n",
       "            </tr>\n",
       "    </tbody></table>"
      ],
      "text/plain": [
       "<pandas.io.formats.style.Styler at 0x7f114064fc50>"
      ]
     },
     "metadata": {},
     "output_type": "display_data"
    },
    {
     "name": "stdout",
     "output_type": "stream",
     "text": [
      "\n",
      "Корреляционный анализ для PSV\n"
     ]
    },
    {
     "data": {
      "text/html": [
       "<style  type=\"text/css\" >\n",
       "    #T_6ed0e4d6_c553_11ea_9326_02420a398dd0row0_col0 {\n",
       "            background-color:  #67001f;\n",
       "            color:  #f1f1f1;\n",
       "        }    #T_6ed0e4d6_c553_11ea_9326_02420a398dd0row0_col1 {\n",
       "            background-color:  #ef9979;\n",
       "            color:  #000000;\n",
       "        }    #T_6ed0e4d6_c553_11ea_9326_02420a398dd0row0_col2 {\n",
       "            background-color:  #276eb0;\n",
       "            color:  #f1f1f1;\n",
       "        }    #T_6ed0e4d6_c553_11ea_9326_02420a398dd0row1_col0 {\n",
       "            background-color:  #f6b191;\n",
       "            color:  #000000;\n",
       "        }    #T_6ed0e4d6_c553_11ea_9326_02420a398dd0row1_col1 {\n",
       "            background-color:  #67001f;\n",
       "            color:  #f1f1f1;\n",
       "        }    #T_6ed0e4d6_c553_11ea_9326_02420a398dd0row1_col2 {\n",
       "            background-color:  #053061;\n",
       "            color:  #f1f1f1;\n",
       "        }    #T_6ed0e4d6_c553_11ea_9326_02420a398dd0row2_col0 {\n",
       "            background-color:  #053061;\n",
       "            color:  #f1f1f1;\n",
       "        }    #T_6ed0e4d6_c553_11ea_9326_02420a398dd0row2_col1 {\n",
       "            background-color:  #053061;\n",
       "            color:  #f1f1f1;\n",
       "        }    #T_6ed0e4d6_c553_11ea_9326_02420a398dd0row2_col2 {\n",
       "            background-color:  #67001f;\n",
       "            color:  #f1f1f1;\n",
       "        }</style><table id=\"T_6ed0e4d6_c553_11ea_9326_02420a398dd0\" ><thead>    <tr>        <th class=\"blank level0\" ></th>        <th class=\"col_heading level0 col0\" >critic_score</th>        <th class=\"col_heading level0 col1\" >user_score</th>        <th class=\"col_heading level0 col2\" >total_sales</th>    </tr></thead><tbody>\n",
       "                <tr>\n",
       "                        <th id=\"T_6ed0e4d6_c553_11ea_9326_02420a398dd0level0_row0\" class=\"row_heading level0 row0\" >critic_score</th>\n",
       "                        <td id=\"T_6ed0e4d6_c553_11ea_9326_02420a398dd0row0_col0\" class=\"data row0 col0\" >1</td>\n",
       "                        <td id=\"T_6ed0e4d6_c553_11ea_9326_02420a398dd0row0_col1\" class=\"data row0 col1\" >0.722678</td>\n",
       "                        <td id=\"T_6ed0e4d6_c553_11ea_9326_02420a398dd0row0_col2\" class=\"data row0 col2\" >0.138109</td>\n",
       "            </tr>\n",
       "            <tr>\n",
       "                        <th id=\"T_6ed0e4d6_c553_11ea_9326_02420a398dd0level0_row1\" class=\"row_heading level0 row1\" >user_score</th>\n",
       "                        <td id=\"T_6ed0e4d6_c553_11ea_9326_02420a398dd0row1_col0\" class=\"data row1 col0\" >0.722678</td>\n",
       "                        <td id=\"T_6ed0e4d6_c553_11ea_9326_02420a398dd0row1_col1\" class=\"data row1 col1\" >1</td>\n",
       "                        <td id=\"T_6ed0e4d6_c553_11ea_9326_02420a398dd0row1_col2\" class=\"data row1 col2\" >0.0205391</td>\n",
       "            </tr>\n",
       "            <tr>\n",
       "                        <th id=\"T_6ed0e4d6_c553_11ea_9326_02420a398dd0level0_row2\" class=\"row_heading level0 row2\" >total_sales</th>\n",
       "                        <td id=\"T_6ed0e4d6_c553_11ea_9326_02420a398dd0row2_col0\" class=\"data row2 col0\" >0.138109</td>\n",
       "                        <td id=\"T_6ed0e4d6_c553_11ea_9326_02420a398dd0row2_col1\" class=\"data row2 col1\" >0.0205391</td>\n",
       "                        <td id=\"T_6ed0e4d6_c553_11ea_9326_02420a398dd0row2_col2\" class=\"data row2 col2\" >1</td>\n",
       "            </tr>\n",
       "    </tbody></table>"
      ],
      "text/plain": [
       "<pandas.io.formats.style.Styler at 0x7f10ff5a9790>"
      ]
     },
     "metadata": {},
     "output_type": "display_data"
    },
    {
     "name": "stdout",
     "output_type": "stream",
     "text": [
      "\n",
      "Корреляционный анализ для DS\n"
     ]
    },
    {
     "data": {
      "text/html": [
       "<style  type=\"text/css\" >\n",
       "    #T_6ed4396a_c553_11ea_9326_02420a398dd0row0_col0 {\n",
       "            background-color:  #67001f;\n",
       "            color:  #f1f1f1;\n",
       "        }    #T_6ed4396a_c553_11ea_9326_02420a398dd0row0_col1 {\n",
       "            background-color:  #ba2832;\n",
       "            color:  #f1f1f1;\n",
       "        }    #T_6ed4396a_c553_11ea_9326_02420a398dd0row0_col2 {\n",
       "            background-color:  #0e4179;\n",
       "            color:  #f1f1f1;\n",
       "        }    #T_6ed4396a_c553_11ea_9326_02420a398dd0row1_col0 {\n",
       "            background-color:  #bb2a34;\n",
       "            color:  #f1f1f1;\n",
       "        }    #T_6ed4396a_c553_11ea_9326_02420a398dd0row1_col1 {\n",
       "            background-color:  #67001f;\n",
       "            color:  #f1f1f1;\n",
       "        }    #T_6ed4396a_c553_11ea_9326_02420a398dd0row1_col2 {\n",
       "            background-color:  #053061;\n",
       "            color:  #f1f1f1;\n",
       "        }    #T_6ed4396a_c553_11ea_9326_02420a398dd0row2_col0 {\n",
       "            background-color:  #053061;\n",
       "            color:  #f1f1f1;\n",
       "        }    #T_6ed4396a_c553_11ea_9326_02420a398dd0row2_col1 {\n",
       "            background-color:  #053061;\n",
       "            color:  #f1f1f1;\n",
       "        }    #T_6ed4396a_c553_11ea_9326_02420a398dd0row2_col2 {\n",
       "            background-color:  #67001f;\n",
       "            color:  #f1f1f1;\n",
       "        }</style><table id=\"T_6ed4396a_c553_11ea_9326_02420a398dd0\" ><thead>    <tr>        <th class=\"blank level0\" ></th>        <th class=\"col_heading level0 col0\" >critic_score</th>        <th class=\"col_heading level0 col1\" >user_score</th>        <th class=\"col_heading level0 col2\" >total_sales</th>    </tr></thead><tbody>\n",
       "                <tr>\n",
       "                        <th id=\"T_6ed4396a_c553_11ea_9326_02420a398dd0level0_row0\" class=\"row_heading level0 row0\" >critic_score</th>\n",
       "                        <td id=\"T_6ed4396a_c553_11ea_9326_02420a398dd0row0_col0\" class=\"data row0 col0\" >1</td>\n",
       "                        <td id=\"T_6ed4396a_c553_11ea_9326_02420a398dd0row0_col1\" class=\"data row0 col1\" >0.911969</td>\n",
       "                        <td id=\"T_6ed4396a_c553_11ea_9326_02420a398dd0row0_col2\" class=\"data row0 col2\" >0.304149</td>\n",
       "            </tr>\n",
       "            <tr>\n",
       "                        <th id=\"T_6ed4396a_c553_11ea_9326_02420a398dd0level0_row1\" class=\"row_heading level0 row1\" >user_score</th>\n",
       "                        <td id=\"T_6ed4396a_c553_11ea_9326_02420a398dd0row1_col0\" class=\"data row1 col0\" >0.911969</td>\n",
       "                        <td id=\"T_6ed4396a_c553_11ea_9326_02420a398dd0row1_col1\" class=\"data row1 col1\" >1</td>\n",
       "                        <td id=\"T_6ed4396a_c553_11ea_9326_02420a398dd0row1_col2\" class=\"data row1 col2\" >0.281029</td>\n",
       "            </tr>\n",
       "            <tr>\n",
       "                        <th id=\"T_6ed4396a_c553_11ea_9326_02420a398dd0level0_row2\" class=\"row_heading level0 row2\" >total_sales</th>\n",
       "                        <td id=\"T_6ed4396a_c553_11ea_9326_02420a398dd0row2_col0\" class=\"data row2 col0\" >0.304149</td>\n",
       "                        <td id=\"T_6ed4396a_c553_11ea_9326_02420a398dd0row2_col1\" class=\"data row2 col1\" >0.281029</td>\n",
       "                        <td id=\"T_6ed4396a_c553_11ea_9326_02420a398dd0row2_col2\" class=\"data row2 col2\" >1</td>\n",
       "            </tr>\n",
       "    </tbody></table>"
      ],
      "text/plain": [
       "<pandas.io.formats.style.Styler at 0x7f1102a3db10>"
      ]
     },
     "metadata": {},
     "output_type": "display_data"
    },
    {
     "name": "stdout",
     "output_type": "stream",
     "text": [
      "\n"
     ]
    }
   ],
   "source": [
    "# Комментарий для ревьювера: хотел сделать элегантное решение, но не получилось почему-то. \n",
    "# Прокомментируйте, пожалуйста, что не так\n",
    "conclude_other(df_analyzed_games ,pivot_platform_analyzed_top_10.index, features)"
   ]
  },
  {
   "cell_type": "code",
   "execution_count": 38,
   "metadata": {},
   "outputs": [
    {
     "name": "stdout",
     "output_type": "stream",
     "text": [
      "Корреляционный анализ для PS3\n"
     ]
    },
    {
     "data": {
      "text/html": [
       "<style  type=\"text/css\" >\n",
       "    #T_f740f624_c550_11ea_9326_02420a398dd0row0_col0 {\n",
       "            background-color:  #67001f;\n",
       "            color:  #f1f1f1;\n",
       "        }    #T_f740f624_c550_11ea_9326_02420a398dd0row0_col1 {\n",
       "            background-color:  #fbe6da;\n",
       "            color:  #000000;\n",
       "        }    #T_f740f624_c550_11ea_9326_02420a398dd0row0_col2 {\n",
       "            background-color:  #c5dfec;\n",
       "            color:  #000000;\n",
       "        }    #T_f740f624_c550_11ea_9326_02420a398dd0row1_col0 {\n",
       "            background-color:  #8ac0db;\n",
       "            color:  #000000;\n",
       "        }    #T_f740f624_c550_11ea_9326_02420a398dd0row1_col1 {\n",
       "            background-color:  #67001f;\n",
       "            color:  #f1f1f1;\n",
       "        }    #T_f740f624_c550_11ea_9326_02420a398dd0row1_col2 {\n",
       "            background-color:  #053061;\n",
       "            color:  #f1f1f1;\n",
       "        }    #T_f740f624_c550_11ea_9326_02420a398dd0row2_col0 {\n",
       "            background-color:  #053061;\n",
       "            color:  #f1f1f1;\n",
       "        }    #T_f740f624_c550_11ea_9326_02420a398dd0row2_col1 {\n",
       "            background-color:  #053061;\n",
       "            color:  #f1f1f1;\n",
       "        }    #T_f740f624_c550_11ea_9326_02420a398dd0row2_col2 {\n",
       "            background-color:  #67001f;\n",
       "            color:  #f1f1f1;\n",
       "        }</style><table id=\"T_f740f624_c550_11ea_9326_02420a398dd0\" ><thead>    <tr>        <th class=\"blank level0\" ></th>        <th class=\"col_heading level0 col0\" >critic_score</th>        <th class=\"col_heading level0 col1\" >user_score</th>        <th class=\"col_heading level0 col2\" >total_sales</th>    </tr></thead><tbody>\n",
       "                <tr>\n",
       "                        <th id=\"T_f740f624_c550_11ea_9326_02420a398dd0level0_row0\" class=\"row_heading level0 row0\" >critic_score</th>\n",
       "                        <td id=\"T_f740f624_c550_11ea_9326_02420a398dd0row0_col0\" class=\"data row0 col0\" >1</td>\n",
       "                        <td id=\"T_f740f624_c550_11ea_9326_02420a398dd0row0_col1\" class=\"data row0 col1\" >0.562589</td>\n",
       "                        <td id=\"T_f740f624_c550_11ea_9326_02420a398dd0row0_col2\" class=\"data row0 col2\" >0.383009</td>\n",
       "            </tr>\n",
       "            <tr>\n",
       "                        <th id=\"T_f740f624_c550_11ea_9326_02420a398dd0level0_row1\" class=\"row_heading level0 row1\" >user_score</th>\n",
       "                        <td id=\"T_f740f624_c550_11ea_9326_02420a398dd0row1_col0\" class=\"data row1 col0\" >0.562589</td>\n",
       "                        <td id=\"T_f740f624_c550_11ea_9326_02420a398dd0row1_col1\" class=\"data row1 col1\" >1</td>\n",
       "                        <td id=\"T_f740f624_c550_11ea_9326_02420a398dd0row1_col2\" class=\"data row1 col2\" >0.00423461</td>\n",
       "            </tr>\n",
       "            <tr>\n",
       "                        <th id=\"T_f740f624_c550_11ea_9326_02420a398dd0level0_row2\" class=\"row_heading level0 row2\" >total_sales</th>\n",
       "                        <td id=\"T_f740f624_c550_11ea_9326_02420a398dd0row2_col0\" class=\"data row2 col0\" >0.383009</td>\n",
       "                        <td id=\"T_f740f624_c550_11ea_9326_02420a398dd0row2_col1\" class=\"data row2 col1\" >0.00423461</td>\n",
       "                        <td id=\"T_f740f624_c550_11ea_9326_02420a398dd0row2_col2\" class=\"data row2 col2\" >1</td>\n",
       "            </tr>\n",
       "    </tbody></table>"
      ],
      "text/plain": [
       "<pandas.io.formats.style.Styler at 0x7f10fffa2c90>"
      ]
     },
     "execution_count": 38,
     "metadata": {},
     "output_type": "execute_result"
    }
   ],
   "source": [
    "# не элегантное решение для ТОП-5 платформ\n",
    "data_1 = df_analyzed_games.query(\"platform == 'PS3'\")\n",
    "print('Корреляционный анализ для PS3')\n",
    "data_1[features].corr()\\\n",
    "        .style.background_gradient(\"RdBu_r\")"
   ]
  },
  {
   "cell_type": "code",
   "execution_count": 39,
   "metadata": {},
   "outputs": [
    {
     "name": "stdout",
     "output_type": "stream",
     "text": [
      "Корреляционный анализ для X360\n"
     ]
    },
    {
     "data": {
      "text/html": [
       "<style  type=\"text/css\" >\n",
       "    #T_f745d4d2_c550_11ea_9326_02420a398dd0row0_col0 {\n",
       "            background-color:  #67001f;\n",
       "            color:  #f1f1f1;\n",
       "        }    #T_f745d4d2_c550_11ea_9326_02420a398dd0row0_col1 {\n",
       "            background-color:  #fae7dc;\n",
       "            color:  #000000;\n",
       "        }    #T_f745d4d2_c550_11ea_9326_02420a398dd0row0_col2 {\n",
       "            background-color:  #c0dceb;\n",
       "            color:  #000000;\n",
       "        }    #T_f745d4d2_c550_11ea_9326_02420a398dd0row1_col0 {\n",
       "            background-color:  #8ac0db;\n",
       "            color:  #000000;\n",
       "        }    #T_f745d4d2_c550_11ea_9326_02420a398dd0row1_col1 {\n",
       "            background-color:  #67001f;\n",
       "            color:  #f1f1f1;\n",
       "        }    #T_f745d4d2_c550_11ea_9326_02420a398dd0row1_col2 {\n",
       "            background-color:  #053061;\n",
       "            color:  #f1f1f1;\n",
       "        }    #T_f745d4d2_c550_11ea_9326_02420a398dd0row2_col0 {\n",
       "            background-color:  #053061;\n",
       "            color:  #f1f1f1;\n",
       "        }    #T_f745d4d2_c550_11ea_9326_02420a398dd0row2_col1 {\n",
       "            background-color:  #053061;\n",
       "            color:  #f1f1f1;\n",
       "        }    #T_f745d4d2_c550_11ea_9326_02420a398dd0row2_col2 {\n",
       "            background-color:  #67001f;\n",
       "            color:  #f1f1f1;\n",
       "        }</style><table id=\"T_f745d4d2_c550_11ea_9326_02420a398dd0\" ><thead>    <tr>        <th class=\"blank level0\" ></th>        <th class=\"col_heading level0 col0\" >critic_score</th>        <th class=\"col_heading level0 col1\" >user_score</th>        <th class=\"col_heading level0 col2\" >total_sales</th>    </tr></thead><tbody>\n",
       "                <tr>\n",
       "                        <th id=\"T_f745d4d2_c550_11ea_9326_02420a398dd0level0_row0\" class=\"row_heading level0 row0\" >critic_score</th>\n",
       "                        <td id=\"T_f745d4d2_c550_11ea_9326_02420a398dd0row0_col0\" class=\"data row0 col0\" >1</td>\n",
       "                        <td id=\"T_f745d4d2_c550_11ea_9326_02420a398dd0row0_col1\" class=\"data row0 col1\" >0.56829</td>\n",
       "                        <td id=\"T_f745d4d2_c550_11ea_9326_02420a398dd0row0_col2\" class=\"data row0 col2\" >0.389736</td>\n",
       "            </tr>\n",
       "            <tr>\n",
       "                        <th id=\"T_f745d4d2_c550_11ea_9326_02420a398dd0level0_row1\" class=\"row_heading level0 row1\" >user_score</th>\n",
       "                        <td id=\"T_f745d4d2_c550_11ea_9326_02420a398dd0row1_col0\" class=\"data row1 col0\" >0.56829</td>\n",
       "                        <td id=\"T_f745d4d2_c550_11ea_9326_02420a398dd0row1_col1\" class=\"data row1 col1\" >1</td>\n",
       "                        <td id=\"T_f745d4d2_c550_11ea_9326_02420a398dd0row1_col2\" class=\"data row1 col2\" >0.0281066</td>\n",
       "            </tr>\n",
       "            <tr>\n",
       "                        <th id=\"T_f745d4d2_c550_11ea_9326_02420a398dd0level0_row2\" class=\"row_heading level0 row2\" >total_sales</th>\n",
       "                        <td id=\"T_f745d4d2_c550_11ea_9326_02420a398dd0row2_col0\" class=\"data row2 col0\" >0.389736</td>\n",
       "                        <td id=\"T_f745d4d2_c550_11ea_9326_02420a398dd0row2_col1\" class=\"data row2 col1\" >0.0281066</td>\n",
       "                        <td id=\"T_f745d4d2_c550_11ea_9326_02420a398dd0row2_col2\" class=\"data row2 col2\" >1</td>\n",
       "            </tr>\n",
       "    </tbody></table>"
      ],
      "text/plain": [
       "<pandas.io.formats.style.Styler at 0x7f10ff02ab50>"
      ]
     },
     "execution_count": 39,
     "metadata": {},
     "output_type": "execute_result"
    }
   ],
   "source": [
    "data_2 = df_analyzed_games.query(\"platform == 'X360'\")\n",
    "print('Корреляционный анализ для X360')\n",
    "data_2[features].corr()\\\n",
    "        .style.background_gradient(\"RdBu_r\")"
   ]
  },
  {
   "cell_type": "code",
   "execution_count": 40,
   "metadata": {},
   "outputs": [
    {
     "name": "stdout",
     "output_type": "stream",
     "text": [
      "Корреляционный анализ для 3DS\n"
     ]
    },
    {
     "data": {
      "text/html": [
       "<style  type=\"text/css\" >\n",
       "    #T_f74fdca2_c550_11ea_9326_02420a398dd0row0_col0 {\n",
       "            background-color:  #67001f;\n",
       "            color:  #f1f1f1;\n",
       "        }    #T_f74fdca2_c550_11ea_9326_02420a398dd0row0_col1 {\n",
       "            background-color:  #f7b99c;\n",
       "            color:  #000000;\n",
       "        }    #T_f74fdca2_c550_11ea_9326_02420a398dd0row0_col2 {\n",
       "            background-color:  #3480b9;\n",
       "            color:  #000000;\n",
       "        }    #T_f74fdca2_c550_11ea_9326_02420a398dd0row1_col0 {\n",
       "            background-color:  #fddbc7;\n",
       "            color:  #000000;\n",
       "        }    #T_f74fdca2_c550_11ea_9326_02420a398dd0row1_col1 {\n",
       "            background-color:  #67001f;\n",
       "            color:  #f1f1f1;\n",
       "        }    #T_f74fdca2_c550_11ea_9326_02420a398dd0row1_col2 {\n",
       "            background-color:  #053061;\n",
       "            color:  #f1f1f1;\n",
       "        }    #T_f74fdca2_c550_11ea_9326_02420a398dd0row2_col0 {\n",
       "            background-color:  #053061;\n",
       "            color:  #f1f1f1;\n",
       "        }    #T_f74fdca2_c550_11ea_9326_02420a398dd0row2_col1 {\n",
       "            background-color:  #053061;\n",
       "            color:  #f1f1f1;\n",
       "        }    #T_f74fdca2_c550_11ea_9326_02420a398dd0row2_col2 {\n",
       "            background-color:  #67001f;\n",
       "            color:  #f1f1f1;\n",
       "        }</style><table id=\"T_f74fdca2_c550_11ea_9326_02420a398dd0\" ><thead>    <tr>        <th class=\"blank level0\" ></th>        <th class=\"col_heading level0 col0\" >critic_score</th>        <th class=\"col_heading level0 col1\" >user_score</th>        <th class=\"col_heading level0 col2\" >total_sales</th>    </tr></thead><tbody>\n",
       "                <tr>\n",
       "                        <th id=\"T_f74fdca2_c550_11ea_9326_02420a398dd0level0_row0\" class=\"row_heading level0 row0\" >critic_score</th>\n",
       "                        <td id=\"T_f74fdca2_c550_11ea_9326_02420a398dd0row0_col0\" class=\"data row0 col0\" >1</td>\n",
       "                        <td id=\"T_f74fdca2_c550_11ea_9326_02420a398dd0row0_col1\" class=\"data row0 col1\" >0.744259</td>\n",
       "                        <td id=\"T_f74fdca2_c550_11ea_9326_02420a398dd0row0_col2\" class=\"data row0 col2\" >0.360314</td>\n",
       "            </tr>\n",
       "            <tr>\n",
       "                        <th id=\"T_f74fdca2_c550_11ea_9326_02420a398dd0level0_row1\" class=\"row_heading level0 row1\" >user_score</th>\n",
       "                        <td id=\"T_f74fdca2_c550_11ea_9326_02420a398dd0row1_col0\" class=\"data row1 col0\" >0.744259</td>\n",
       "                        <td id=\"T_f74fdca2_c550_11ea_9326_02420a398dd0row1_col1\" class=\"data row1 col1\" >1</td>\n",
       "                        <td id=\"T_f74fdca2_c550_11ea_9326_02420a398dd0row1_col2\" class=\"data row1 col2\" >0.240305</td>\n",
       "            </tr>\n",
       "            <tr>\n",
       "                        <th id=\"T_f74fdca2_c550_11ea_9326_02420a398dd0level0_row2\" class=\"row_heading level0 row2\" >total_sales</th>\n",
       "                        <td id=\"T_f74fdca2_c550_11ea_9326_02420a398dd0row2_col0\" class=\"data row2 col0\" >0.360314</td>\n",
       "                        <td id=\"T_f74fdca2_c550_11ea_9326_02420a398dd0row2_col1\" class=\"data row2 col1\" >0.240305</td>\n",
       "                        <td id=\"T_f74fdca2_c550_11ea_9326_02420a398dd0row2_col2\" class=\"data row2 col2\" >1</td>\n",
       "            </tr>\n",
       "    </tbody></table>"
      ],
      "text/plain": [
       "<pandas.io.formats.style.Styler at 0x7f10ff5b6e50>"
      ]
     },
     "execution_count": 40,
     "metadata": {},
     "output_type": "execute_result"
    }
   ],
   "source": [
    "data_3 = df_analyzed_games.query(\"platform == '3DS'\")\n",
    "print('Корреляционный анализ для 3DS')\n",
    "data_3[features].corr()\\\n",
    "        .style.background_gradient(\"RdBu_r\")"
   ]
  },
  {
   "cell_type": "code",
   "execution_count": 41,
   "metadata": {},
   "outputs": [
    {
     "name": "stdout",
     "output_type": "stream",
     "text": [
      "Корреляционный анализ для Wii\n"
     ]
    },
    {
     "data": {
      "text/html": [
       "<style  type=\"text/css\" >\n",
       "    #T_f7546b28_c550_11ea_9326_02420a398dd0row0_col0 {\n",
       "            background-color:  #67001f;\n",
       "            color:  #f1f1f1;\n",
       "        }    #T_f7546b28_c550_11ea_9326_02420a398dd0row0_col1 {\n",
       "            background-color:  #acd2e5;\n",
       "            color:  #000000;\n",
       "        }    #T_f7546b28_c550_11ea_9326_02420a398dd0row0_col2 {\n",
       "            background-color:  #3783bb;\n",
       "            color:  #000000;\n",
       "        }    #T_f7546b28_c550_11ea_9326_02420a398dd0row1_col0 {\n",
       "            background-color:  #4997c5;\n",
       "            color:  #000000;\n",
       "        }    #T_f7546b28_c550_11ea_9326_02420a398dd0row1_col1 {\n",
       "            background-color:  #67001f;\n",
       "            color:  #f1f1f1;\n",
       "        }    #T_f7546b28_c550_11ea_9326_02420a398dd0row1_col2 {\n",
       "            background-color:  #053061;\n",
       "            color:  #f1f1f1;\n",
       "        }    #T_f7546b28_c550_11ea_9326_02420a398dd0row2_col0 {\n",
       "            background-color:  #053061;\n",
       "            color:  #f1f1f1;\n",
       "        }    #T_f7546b28_c550_11ea_9326_02420a398dd0row2_col1 {\n",
       "            background-color:  #053061;\n",
       "            color:  #f1f1f1;\n",
       "        }    #T_f7546b28_c550_11ea_9326_02420a398dd0row2_col2 {\n",
       "            background-color:  #67001f;\n",
       "            color:  #f1f1f1;\n",
       "        }</style><table id=\"T_f7546b28_c550_11ea_9326_02420a398dd0\" ><thead>    <tr>        <th class=\"blank level0\" ></th>        <th class=\"col_heading level0 col0\" >critic_score</th>        <th class=\"col_heading level0 col1\" >user_score</th>        <th class=\"col_heading level0 col2\" >total_sales</th>    </tr></thead><tbody>\n",
       "                <tr>\n",
       "                        <th id=\"T_f7546b28_c550_11ea_9326_02420a398dd0level0_row0\" class=\"row_heading level0 row0\" >critic_score</th>\n",
       "                        <td id=\"T_f7546b28_c550_11ea_9326_02420a398dd0row0_col0\" class=\"data row0 col0\" >1</td>\n",
       "                        <td id=\"T_f7546b28_c550_11ea_9326_02420a398dd0row0_col1\" class=\"data row0 col1\" >0.465967</td>\n",
       "                        <td id=\"T_f7546b28_c550_11ea_9326_02420a398dd0row0_col2\" class=\"data row0 col2\" >0.323873</td>\n",
       "            </tr>\n",
       "            <tr>\n",
       "                        <th id=\"T_f7546b28_c550_11ea_9326_02420a398dd0level0_row1\" class=\"row_heading level0 row1\" >user_score</th>\n",
       "                        <td id=\"T_f7546b28_c550_11ea_9326_02420a398dd0row1_col0\" class=\"data row1 col0\" >0.465967</td>\n",
       "                        <td id=\"T_f7546b28_c550_11ea_9326_02420a398dd0row1_col1\" class=\"data row1 col1\" >1</td>\n",
       "                        <td id=\"T_f7546b28_c550_11ea_9326_02420a398dd0row1_col2\" class=\"data row1 col2\" >0.190432</td>\n",
       "            </tr>\n",
       "            <tr>\n",
       "                        <th id=\"T_f7546b28_c550_11ea_9326_02420a398dd0level0_row2\" class=\"row_heading level0 row2\" >total_sales</th>\n",
       "                        <td id=\"T_f7546b28_c550_11ea_9326_02420a398dd0row2_col0\" class=\"data row2 col0\" >0.323873</td>\n",
       "                        <td id=\"T_f7546b28_c550_11ea_9326_02420a398dd0row2_col1\" class=\"data row2 col1\" >0.190432</td>\n",
       "                        <td id=\"T_f7546b28_c550_11ea_9326_02420a398dd0row2_col2\" class=\"data row2 col2\" >1</td>\n",
       "            </tr>\n",
       "    </tbody></table>"
      ],
      "text/plain": [
       "<pandas.io.formats.style.Styler at 0x7f10ffb98a50>"
      ]
     },
     "execution_count": 41,
     "metadata": {},
     "output_type": "execute_result"
    }
   ],
   "source": [
    "data_4 = df_analyzed_games.query(\"platform == 'Wii'\")\n",
    "print('Корреляционный анализ для Wii')\n",
    "data_4[features].corr()\\\n",
    "        .style.background_gradient(\"RdBu_r\")"
   ]
  },
  {
   "cell_type": "code",
   "execution_count": 42,
   "metadata": {},
   "outputs": [
    {
     "name": "stdout",
     "output_type": "stream",
     "text": [
      "Корреляционный анализ для PC\n"
     ]
    },
    {
     "data": {
      "text/html": [
       "<style  type=\"text/css\" >\n",
       "    #T_f75db390_c550_11ea_9326_02420a398dd0row0_col0 {\n",
       "            background-color:  #67001f;\n",
       "            color:  #f1f1f1;\n",
       "        }    #T_f75db390_c550_11ea_9326_02420a398dd0row0_col1 {\n",
       "            background-color:  #f7f6f6;\n",
       "            color:  #000000;\n",
       "        }    #T_f75db390_c550_11ea_9326_02420a398dd0row0_col2 {\n",
       "            background-color:  #c7e0ed;\n",
       "            color:  #000000;\n",
       "        }    #T_f75db390_c550_11ea_9326_02420a398dd0row1_col0 {\n",
       "            background-color:  #3f8ec0;\n",
       "            color:  #000000;\n",
       "        }    #T_f75db390_c550_11ea_9326_02420a398dd0row1_col1 {\n",
       "            background-color:  #67001f;\n",
       "            color:  #f1f1f1;\n",
       "        }    #T_f75db390_c550_11ea_9326_02420a398dd0row1_col2 {\n",
       "            background-color:  #053061;\n",
       "            color:  #f1f1f1;\n",
       "        }    #T_f75db390_c550_11ea_9326_02420a398dd0row2_col0 {\n",
       "            background-color:  #053061;\n",
       "            color:  #f1f1f1;\n",
       "        }    #T_f75db390_c550_11ea_9326_02420a398dd0row2_col1 {\n",
       "            background-color:  #053061;\n",
       "            color:  #f1f1f1;\n",
       "        }    #T_f75db390_c550_11ea_9326_02420a398dd0row2_col2 {\n",
       "            background-color:  #67001f;\n",
       "            color:  #f1f1f1;\n",
       "        }</style><table id=\"T_f75db390_c550_11ea_9326_02420a398dd0\" ><thead>    <tr>        <th class=\"blank level0\" ></th>        <th class=\"col_heading level0 col0\" >critic_score</th>        <th class=\"col_heading level0 col1\" >user_score</th>        <th class=\"col_heading level0 col2\" >total_sales</th>    </tr></thead><tbody>\n",
       "                <tr>\n",
       "                        <th id=\"T_f75db390_c550_11ea_9326_02420a398dd0level0_row0\" class=\"row_heading level0 row0\" >critic_score</th>\n",
       "                        <td id=\"T_f75db390_c550_11ea_9326_02420a398dd0row0_col0\" class=\"data row0 col0\" >1</td>\n",
       "                        <td id=\"T_f75db390_c550_11ea_9326_02420a398dd0row0_col1\" class=\"data row0 col1\" >0.468382</td>\n",
       "                        <td id=\"T_f75db390_c550_11ea_9326_02420a398dd0row0_col2\" class=\"data row0 col2\" >0.342601</td>\n",
       "            </tr>\n",
       "            <tr>\n",
       "                        <th id=\"T_f75db390_c550_11ea_9326_02420a398dd0level0_row1\" class=\"row_heading level0 row1\" >user_score</th>\n",
       "                        <td id=\"T_f75db390_c550_11ea_9326_02420a398dd0row1_col0\" class=\"data row1 col0\" >0.468382</td>\n",
       "                        <td id=\"T_f75db390_c550_11ea_9326_02420a398dd0row1_col1\" class=\"data row1 col1\" >1</td>\n",
       "                        <td id=\"T_f75db390_c550_11ea_9326_02420a398dd0row1_col2\" class=\"data row1 col2\" >-0.0682893</td>\n",
       "            </tr>\n",
       "            <tr>\n",
       "                        <th id=\"T_f75db390_c550_11ea_9326_02420a398dd0level0_row2\" class=\"row_heading level0 row2\" >total_sales</th>\n",
       "                        <td id=\"T_f75db390_c550_11ea_9326_02420a398dd0row2_col0\" class=\"data row2 col0\" >0.342601</td>\n",
       "                        <td id=\"T_f75db390_c550_11ea_9326_02420a398dd0row2_col1\" class=\"data row2 col1\" >-0.0682893</td>\n",
       "                        <td id=\"T_f75db390_c550_11ea_9326_02420a398dd0row2_col2\" class=\"data row2 col2\" >1</td>\n",
       "            </tr>\n",
       "    </tbody></table>"
      ],
      "text/plain": [
       "<pandas.io.formats.style.Styler at 0x7f10ff013250>"
      ]
     },
     "execution_count": 42,
     "metadata": {},
     "output_type": "execute_result"
    }
   ],
   "source": [
    "data_4 = df_analyzed_games.query(\"platform == 'PC'\")\n",
    "print('Корреляционный анализ для PC')\n",
    "data_4[features].corr()\\\n",
    "        .style.background_gradient(\"RdBu_r\")"
   ]
  },
  {
   "cell_type": "markdown",
   "metadata": {},
   "source": [
    "Вывод:\n",
    "- Вывод для PS3, X360 и PC аналогичный PS4 и XBox One, связь между рейтингами есть, но линейная зависимость есть только между объемом продаж и рейтингами критиков\n",
    "- Вывод для 3DS и Wii аналогичный PS4 и XBox One, но появляется слабая линейная зависимость между объемом продаж и рейтингами пользователей. Наверное японцы доверяют другу другу больше\n"
   ]
  },
  {
   "cell_type": "markdown",
   "metadata": {},
   "source": [
    "### - Посмотрите на общее распределение игр по жанрам. Что можно сказать о самых прибыльных жанрах? Выделяются ли жанры с высокими и низкими продажами?"
   ]
  },
  {
   "cell_type": "code",
   "execution_count": 43,
   "metadata": {},
   "outputs": [
    {
     "data": {
      "text/plain": [
       "[Text(0, 0.5, 'Общий объем продаж'), Text(0.5, 0, 'Жанр')]"
      ]
     },
     "execution_count": 43,
     "metadata": {},
     "output_type": "execute_result"
    },
    {
     "data": {
      "image/png": "[encoded data removed]",
      "text/plain": [
       "<Figure size 432x288 with 1 Axes>"
      ]
     },
     "metadata": {
      "needs_background": "light"
     },
     "output_type": "display_data"
    }
   ],
   "source": [
    "pivot_genres = (df_analyzed_games.pivot_table(index ='genre', values = 'total_sales', aggfunc = 'sum')\n",
    "                .sort_values('total_sales', ascending = False))\n",
    "(pivot_genres.plot(y='total_sales', kind='bar', title='Распределение выручки по жанрам за период 2010-2015 гг.').\n",
    "                    set(xlabel='Жанр', ylabel='Общий объем продаж'))\n"
   ]
  },
  {
   "cell_type": "markdown",
   "metadata": {},
   "source": [
    "Вывод:\n",
    "- Наиболее популярный жанр Action и Shooter. Жизнь людей скучна и всем хочется приключений и снять стресс убив пару монстров"
   ]
  },
  {
   "cell_type": "markdown",
   "metadata": {},
   "source": [
    "<div class=\"alert alert-success\">\n",
    "<h2> Комментарий ревьюера</h2>\n",
    "\n",
    "Верно. \n",
    "\n",
    "    \n",
    "</div>"
   ]
  },
  {
   "cell_type": "markdown",
   "metadata": {},
   "source": [
    "## Шаг 4. Составьте портрет пользователя каждого региона\n"
   ]
  },
  {
   "cell_type": "markdown",
   "metadata": {},
   "source": [
    "### Определите для пользователя каждого региона (NA, EU, JP):\n",
    "#### - Самые популярные платформы (топ-5). Опишите различия в долях продаж.\n"
   ]
  },
  {
   "cell_type": "code",
   "execution_count": 44,
   "metadata": {},
   "outputs": [],
   "source": [
    "def popular_by_features (data, feature, region_list):\n",
    "    \n",
    "    '''\n",
    "    Возвращает диаграммы по продажам в регионах по столбцу переданному в feature\n",
    "    '''\n",
    "\n",
    "    for region in list(region_list):\n",
    "        print('Распределение продаж в регионе', region, 'по признаку', feature)\n",
    "        (data.pivot_table(index = feature, values = region, aggfunc = 'sum').sort_values(region, ascending = False)\n",
    "         .head(5).plot.pie(y= region, figsize= (6,6), autopct='%1.1f%%',).set(xlabel='', ylabel=''))\n",
    "        plt.show()\n"
   ]
  },
  {
   "cell_type": "code",
   "execution_count": 45,
   "metadata": {},
   "outputs": [
    {
     "name": "stdout",
     "output_type": "stream",
     "text": [
      "Распределение продаж в регионе na_sales по признаку platform\n"
     ]
    },
    {
     "data": {
      "image/png": "[encoded data removed]",
      "text/plain": [
       "<Figure size 432x432 with 1 Axes>"
      ]
     },
     "metadata": {},
     "output_type": "display_data"
    },
    {
     "name": "stdout",
     "output_type": "stream",
     "text": [
      "Распределение продаж в регионе eu_sales по признаку platform\n"
     ]
    },
    {
     "data": {
      "image/png": "[encoded data removed]",
      "text/plain": [
       "<Figure size 432x432 with 1 Axes>"
      ]
     },
     "metadata": {},
     "output_type": "display_data"
    },
    {
     "name": "stdout",
     "output_type": "stream",
     "text": [
      "Распределение продаж в регионе jp_sales по признаку platform\n"
     ]
    },
    {
     "data": {
      "image/png": "[encoded data removed]",
      "text/plain": [
       "<Figure size 432x432 with 1 Axes>"
      ]
     },
     "metadata": {},
     "output_type": "display_data"
    }
   ],
   "source": [
    "region_list_for = ['na_sales','eu_sales','jp_sales']\n",
    "popular_by_features(df_analyzed_games, 'platform', region_list_for)"
   ]
  },
  {
   "cell_type": "markdown",
   "metadata": {},
   "source": [
    "Вывод:\n",
    "- ТОП-3 платформ в Северной Америка и Европе совпадают, а вот 4 и 5 позиция расходятся полностью. В СА на первом месте консоль от Microsoft может это связано с более активным продвижением на родном рынке. В то время как в Европе на первом месте Play Station\n",
    "- Рынок Японии сильно отличается от двух других, ТОП-5 платформ являются локальными компаниями. У японцев своей вкус на игры, который отличается от \"западного\"\n"
   ]
  },
  {
   "cell_type": "markdown",
   "metadata": {},
   "source": [
    "<div class=\"alert alert-success\">\n",
    "<h2> Комментарий ревьюера</h2>\n",
    "\n",
    "Наглядно и понятно.\n",
    "    \n",
    "Визуализация — наш мощный инструмент.\n",
    "    \n",
    "Если тебе понравилась тема визуализации, рекомендую посмотреть библиотеки `seaborn` и `plotly`. С ними графики становятся живее и приятнее.\n",
    "\n",
    "    \n",
    "</div>"
   ]
  },
  {
   "cell_type": "markdown",
   "metadata": {},
   "source": [
    "#### - Самые популярные жанры (топ-5). Поясните разницу.\n"
   ]
  },
  {
   "cell_type": "code",
   "execution_count": 46,
   "metadata": {},
   "outputs": [
    {
     "name": "stdout",
     "output_type": "stream",
     "text": [
      "Распределение продаж в регионе na_sales по признаку genre\n"
     ]
    },
    {
     "data": {
      "image/png": "[encoded data removed]",
      "text/plain": [
       "<Figure size 432x432 with 1 Axes>"
      ]
     },
     "metadata": {},
     "output_type": "display_data"
    },
    {
     "name": "stdout",
     "output_type": "stream",
     "text": [
      "Распределение продаж в регионе eu_sales по признаку genre\n"
     ]
    },
    {
     "data": {
      "image/png": "[encoded data removed]",
      "text/plain": [
       "<Figure size 432x432 with 1 Axes>"
      ]
     },
     "metadata": {},
     "output_type": "display_data"
    },
    {
     "name": "stdout",
     "output_type": "stream",
     "text": [
      "Распределение продаж в регионе jp_sales по признаку genre\n"
     ]
    },
    {
     "data": {
      "image/png": "[encoded data removed]",
      "text/plain": [
       "<Figure size 432x432 with 1 Axes>"
      ]
     },
     "metadata": {},
     "output_type": "display_data"
    }
   ],
   "source": [
    "popular_by_features(df_analyzed_games, 'genre', region_list_for)"
   ]
  },
  {
   "cell_type": "markdown",
   "metadata": {},
   "source": [
    "Вывод:\n",
    "- Предпочтения пользователй в Северной Америке и Европе по ТОП-5 жанрам совпадают с учетом небольших различий по структуре.\n",
    "- Предпочтения пользователей из Японии совпадают в трех жанрах, а 4 и 5 жанры присуще только пользователю из Японии"
   ]
  },
  {
   "cell_type": "markdown",
   "metadata": {},
   "source": [
    "#### - Влияет ли рейтинг ESRB на продажи в отдельном регионе?"
   ]
  },
  {
   "cell_type": "code",
   "execution_count": 47,
   "metadata": {},
   "outputs": [
    {
     "name": "stdout",
     "output_type": "stream",
     "text": [
      "Распределение продаж в регионе na_sales по признаку rating\n"
     ]
    },
    {
     "data": {
      "image/png": "[encoded data removed]",
      "text/plain": [
       "<Figure size 432x432 with 1 Axes>"
      ]
     },
     "metadata": {},
     "output_type": "display_data"
    },
    {
     "name": "stdout",
     "output_type": "stream",
     "text": [
      "Распределение продаж в регионе eu_sales по признаку rating\n"
     ]
    },
    {
     "data": {
      "image/png": "[encoded data removed]",
      "text/plain": [
       "<Figure size 432x432 with 1 Axes>"
      ]
     },
     "metadata": {},
     "output_type": "display_data"
    },
    {
     "name": "stdout",
     "output_type": "stream",
     "text": [
      "Распределение продаж в регионе jp_sales по признаку rating\n"
     ]
    },
    {
     "data": {
      "image/png": "[encoded data removed]",
      "text/plain": [
       "<Figure size 432x432 with 1 Axes>"
      ]
     },
     "metadata": {},
     "output_type": "display_data"
    }
   ],
   "source": [
    "popular_by_features(df_analyzed_games, 'rating', region_list_for)"
   ]
  },
  {
   "cell_type": "markdown",
   "metadata": {},
   "source": [
    "Вывод:\n",
    "- Пятый жанр в топ-5 можно не учитывать по каждому из регионов, он слишком маленький\n",
    "- Предпочтения пользователй в Северной Америке и Европе по ТОП-4 рейтингам совпадают с учетом небольших различий по структуре, аналогично предпочтениям по жанрам. На первом месте везде идет игры для взрослых ('M').\n",
    "- Предпочтения пользователей из Японии отличаются на первых двух местах у них игры c рейтингом для всех ('E') и подростков ('T'), по середине игры для взрослых ('M') и снова игры для детей."
   ]
  },
  {
   "cell_type": "markdown",
   "metadata": {},
   "source": [
    "## Шаг 5. Проверьте гипотезы\n",
    "### Средние пользовательские рейтинги платформ Xbox One и PC одинаковые;\n"
   ]
  },
  {
   "cell_type": "markdown",
   "metadata": {},
   "source": [
    "#### Формулируем гипотезу:\n",
    "- **H0**: Cредние пользовательские рейтинги платформ Xbox One и PC равны\n",
    "- **H1**: Средние пользовательские рейтинги платформ Xbox One и PC различаются"
   ]
  },
  {
   "cell_type": "markdown",
   "metadata": {},
   "source": [
    "<div class=\"alert alert-success\">\n",
    "<h2> Комментарий ревьюера</h2>\n",
    "\n",
    "Гипотезы сформулированы верно.\n",
    "    \n",
    "</div>"
   ]
  },
  {
   "cell_type": "code",
   "execution_count": 48,
   "metadata": {},
   "outputs": [
    {
     "data": {
      "image/png": "[encoded data removed]",
      "text/plain": [
       "<Figure size 432x288 with 1 Axes>"
      ]
     },
     "metadata": {
      "needs_background": "light"
     },
     "output_type": "display_data"
    },
    {
     "data": {
      "image/png": "[encoded data removed]",
      "text/plain": [
       "<Figure size 432x288 with 1 Axes>"
      ]
     },
     "metadata": {
      "needs_background": "light"
     },
     "output_type": "display_data"
    }
   ],
   "source": [
    "# Рассчитываем средние\n",
    "average_xbox_one = df_analyzed_games.query(\"platform == 'XOne'\")['user_score'].dropna()\n",
    "average_pc = df_analyzed_games.query(\"platform == 'PC'\")['user_score'].dropna()\n",
    "average_xbox_one.hist()\n",
    "plt.show()\n",
    "average_pc.hist()\n",
    "plt.show()"
   ]
  },
  {
   "cell_type": "markdown",
   "metadata": {},
   "source": [
    "<div class=\"alert alert-warning\">\n",
    "<h2> Комментарий ревьюера</h2>\n",
    "\n",
    "Не стоит забывать про подписи графиков. \n",
    "    \n",
    "С помощью них быстрее можно понять о чем идет речь, на визуализации.\n",
    "    \n",
    "</div>"
   ]
  },
  {
   "cell_type": "code",
   "execution_count": 49,
   "metadata": {},
   "outputs": [
    {
     "name": "stdout",
     "output_type": "stream",
     "text": [
      "p-значение: 0.8900435256150822\n",
      "Не получилось отвергнуть нулевую гипотезу\n"
     ]
    }
   ],
   "source": [
    "#проводим тест Стьюдента\n",
    "alpha = 0.05# Критический уровень статистической значимости\n",
    "\n",
    "results = st.ttest_ind(\n",
    "                      average_xbox_one,\n",
    "                        average_pc) # Проверяем гипотезу о равенстве средних двух независимых совокупностей\n",
    "\n",
    "print('p-значение:', results.pvalue)\n",
    "if (results.pvalue < alpha):\n",
    "    print(\"Отвергаем нулевую гипотезу. Значит средние пользовательские рейтинги различаются\")\n",
    "else:\n",
    "    print('Не получилось отвергнуть нулевую гипотезу')\n"
   ]
  },
  {
   "cell_type": "markdown",
   "metadata": {},
   "source": [
    "<div class=\"alert alert-warning\">\n",
    "<h2> Комментарий ревьюера</h2>\n",
    "\n",
    "В конструкции `if`можно писать условие без скобок. Для логики это неважно, но чем меньше символов в коде — тем легче его читать. Чтобы продемонстрировать коллегам хороший стиль кода, привыкай писать условия без скобок.\n",
    "    \n",
    "---\n",
    "   \n",
    "В том числе перед проверкой гипотезы, рекомендую проверить различие дисперсий между выборками. Чтобы корректно применять атрибут `equal_var`=`True` (по умолчанию).\n",
    "    \n",
    "Когда дисперсии одинаковы, то используем True, наоборот False.\n",
    "    \n",
    "</div>"
   ]
  },
  {
   "cell_type": "markdown",
   "metadata": {},
   "source": [
    "**Вывод:**\n",
    "- Гипотеза Cредние пользовательские рейтинги платформ Xbox One и PC равны подтвердилась\n",
    "\n",
    "\n"
   ]
  },
  {
   "cell_type": "markdown",
   "metadata": {},
   "source": [
    "### Средние пользовательские рейтинги жанров Action (англ. «действие», экшен-игры) и Sports (англ. «спортивные соревнования») разные."
   ]
  },
  {
   "cell_type": "markdown",
   "metadata": {},
   "source": [
    "#### Формулируем гипотезу:\n",
    "- **H0**: Cредние пользовательские рейтинги жанров Action и Sports равны\n",
    "- **H1**: Cредние пользовательские рейтинги жанров Action и Sports разные"
   ]
  },
  {
   "cell_type": "markdown",
   "metadata": {},
   "source": [
    "<div class=\"alert alert-success\">\n",
    "<h2> Комментарий ревьюера</h2>\n",
    "\n",
    "Гипотезы сформулированы верно.\n",
    "    \n",
    "</div>"
   ]
  },
  {
   "cell_type": "code",
   "execution_count": 50,
   "metadata": {},
   "outputs": [
    {
     "data": {
      "image/png": "[encoded data removed]",
      "text/plain": [
       "<Figure size 432x288 with 1 Axes>"
      ]
     },
     "metadata": {
      "needs_background": "light"
     },
     "output_type": "display_data"
    },
    {
     "data": {
      "image/png": "[encoded data removed]",
      "text/plain": [
       "<Figure size 432x288 with 1 Axes>"
      ]
     },
     "metadata": {
      "needs_background": "light"
     },
     "output_type": "display_data"
    }
   ],
   "source": [
    "# Рассчитываем средние\n",
    "average_action = df_analyzed_games.query(\"genre == 'Action'\")['user_score'].dropna()\n",
    "average_sports = df_analyzed_games.query(\"genre == 'Sports'\")['user_score'].dropna()\n",
    "average_action.hist()\n",
    "plt.show()\n",
    "average_sports.hist()\n",
    "plt.show()"
   ]
  },
  {
   "cell_type": "code",
   "execution_count": 51,
   "metadata": {},
   "outputs": [
    {
     "name": "stdout",
     "output_type": "stream",
     "text": [
      "p-значение: 4.6601925591240026e-21\n",
      "Отвергаем нулевую гипотезу. Значит средние пользовательские рейтинги для двух жанров различаются\n"
     ]
    }
   ],
   "source": [
    "#проводим тест Стьюдента\n",
    "alpha = 0.05# Критический уровень статистической значимости\n",
    "\n",
    "results = st.ttest_ind(\n",
    "                      average_action,\n",
    "                        average_sports) # Проверяем гипотезу о равенстве средних двух независимых совокупностей\n",
    "\n",
    "print('p-значение:', results.pvalue)\n",
    "if (results.pvalue < alpha):\n",
    "    print(\"Отвергаем нулевую гипотезу. Значит средние пользовательские рейтинги для двух жанров различаются\")\n",
    "else:\n",
    "    print('Не получилось отвергнуть нулевую гипотезу')\n"
   ]
  },
  {
   "cell_type": "markdown",
   "metadata": {},
   "source": [
    "**Вывод:**\n",
    "- Гипотеза Средние пользовательские рейтинги жанров Action и Sports разные подтвердилась. Практически нулевая вероятность говорит о том, что случайно получить такое отличие в значениях очень тяжело\n",
    "\n",
    "\n",
    "\n"
   ]
  },
  {
   "cell_type": "markdown",
   "metadata": {},
   "source": [
    "### Шаг 6. Напишите общий вывод\n",
    "\n",
    "\n",
    "- Средний жизненный цикл платформы составляет около 5 лет.\n",
    "- Наиболее популярные на данный момент платформы – это Sony PlayStation 4 и Xbox One. Они появились пару лет назад и имеют потенциал роста.\n",
    "- В США и Европе лучше всего продаются шутеры и экшены.\n",
    "- Япония специфический локальный рынок с уклоном в портативные консоли и игры для всех и детей\n",
    "- Больше всего продаж приходятся на игры, разрешенные для детей.\n",
    "\n",
    "Сформулированные гипотезы подтвердились:\n",
    "\n",
    "- Средние пользовательские рейтинги платформ Xbox One и PC одинаковые.\n",
    "- Средние пользовательские рейтинги жанров Action и Sports разные."
   ]
  },
  {
   "cell_type": "markdown",
   "metadata": {},
   "source": [
    "<div class=\"alert alert-success\">\n",
    "<h2> Комментарий ревьюера</h2>\n",
    "\n",
    "Выводы понятны и логичны. Рекомендую разбавлять их выявленными фактами. Так они будут конкретнее. \n",
    "    \n",
    "В целом сам проект выполнен на хорошем уровне! На протяжении всей работы чувствуется глубина проработки задачи и это безусловный плюс для нас. Было использовано большое количество методов, которые будут помогать тебе в дальнейших проектах.\n",
    "    \n",
    "Не стоит забывать про оформление своей работы, это важный такой же важный этап. Рекомендую «не стесняться» использовать ячейки типа **markdown** там где нам необходимо отобразить свои размышления, в том числе с использованием дополнительной стилизации.\n",
    "\n",
    "Успехов тебе в новых работах!\n",
    "    \n",
    "</div>"
   ]
  },
  {
   "cell_type": "markdown",
   "metadata": {},
   "source": [
    "<div class=\"alert alert-success\">\n",
    "<h2> Комментарий ревьюера</h2>\n",
    "\n",
    "Рекомендую посмотреть на дополнительную стилизацию ячеек типа **markdown**.\n",
    "    \n",
    "**Жирный**\n",
    "*Курсив*\n",
    "    \n",
    "--- \n",
    "\n",
    "# Заголовок первого уровня\n",
    "\n",
    "--- \n",
    "    \n",
    "## Заголовок первого уровня\n",
    "  \n",
    "--- \n",
    "Списки:\n",
    "    \n",
    "- один \n",
    "- два\n",
    "- три\n",
    "   \n",
    "---\n",
    "    \n",
    "1. Раз\n",
    "2. Раз раз\n",
    "3. Раз два три\n",
    "    \n",
    "--- \n",
    "    \n",
    "Отображение `переменных`\n",
    "    \n",
    "    \n",
    "</div>"
   ]
  },
  {
   "cell_type": "code",
   "execution_count": null,
   "metadata": {},
   "outputs": [],
   "source": []
  }
 ],
 "metadata": {
  "kernelspec": {
   "display_name": "Python 3",
   "language": "python",
   "name": "python3"
  },
  "language_info": {
   "codemirror_mode": {
    "name": "ipython",
    "version": 3
   },
   "file_extension": ".py",
   "mimetype": "text/x-python",
   "name": "python",
   "nbconvert_exporter": "python",
   "pygments_lexer": "ipython3",
   "version": "3.8.3"
  }
 },
 "nbformat": 4,
 "nbformat_minor": 2
}
